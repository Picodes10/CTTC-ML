{
 "cells": [
  {
   "cell_type": "markdown",
   "id": "e3c81ea5-a16e-4444-9425-4a38b2c406d9",
   "metadata": {},
   "source": [
    "# list"
   ]
  },
  {
   "cell_type": "code",
   "execution_count": 2,
   "id": "fdffe714-d901-4c5f-ba13-238d4c95bdf6",
   "metadata": {},
   "outputs": [
    {
     "data": {
      "text/plain": [
       "[1, 23, 4, 56, 76, 22]"
      ]
     },
     "execution_count": 2,
     "metadata": {},
     "output_type": "execute_result"
    }
   ],
   "source": [
    "# homogenous\n",
    "l = [1,23,4,56,76,22]\n",
    "l"
   ]
  },
  {
   "cell_type": "code",
   "execution_count": 3,
   "id": "dad73ad6-8bed-432a-85f1-472a6c467a7c",
   "metadata": {},
   "outputs": [
    {
     "data": {
      "text/plain": [
       "list"
      ]
     },
     "execution_count": 3,
     "metadata": {},
     "output_type": "execute_result"
    }
   ],
   "source": [
    "type(l)"
   ]
  },
  {
   "cell_type": "code",
   "execution_count": 4,
   "id": "57f850ae-1f06-49f0-a566-9244e11cdd6e",
   "metadata": {},
   "outputs": [
    {
     "data": {
      "text/plain": [
       "list"
      ]
     },
     "execution_count": 4,
     "metadata": {},
     "output_type": "execute_result"
    }
   ],
   "source": [
    "type(l)"
   ]
  },
  {
   "cell_type": "code",
   "execution_count": 5,
   "id": "a12aa697-5460-40b4-8992-b9ace18630e4",
   "metadata": {},
   "outputs": [
    {
     "data": {
      "text/plain": [
       "[21, 34, 'Sushree', (23-76j)]"
      ]
     },
     "execution_count": 5,
     "metadata": {},
     "output_type": "execute_result"
    }
   ],
   "source": [
    "# heterogenous\n",
    "l1 = [21, 34, 'Sushree', 23-76j]\n",
    "l1"
   ]
  },
  {
   "cell_type": "code",
   "execution_count": 6,
   "id": "f4aeb22c-1e0f-42f6-ae9f-99dc96bbbef1",
   "metadata": {},
   "outputs": [
    {
     "data": {
      "text/plain": [
       "list"
      ]
     },
     "execution_count": 6,
     "metadata": {},
     "output_type": "execute_result"
    }
   ],
   "source": [
    "type(l1)"
   ]
  },
  {
   "cell_type": "markdown",
   "id": "9f0605d5-dbb9-4970-a489-e21c6593d8f3",
   "metadata": {},
   "source": [
    "# indexing and slicing"
   ]
  },
  {
   "cell_type": "code",
   "execution_count": 8,
   "id": "f44f3f19-3951-4b16-bafe-d2d5aed0c9a1",
   "metadata": {},
   "outputs": [],
   "source": [
    "l2 = [1,2,3,4, 5, 'samosa']"
   ]
  },
  {
   "cell_type": "code",
   "execution_count": 9,
   "id": "663b250f-0a23-4ca6-8f44-30548ce8345b",
   "metadata": {},
   "outputs": [
    {
     "data": {
      "text/plain": [
       "(5, 'samosa')"
      ]
     },
     "execution_count": 9,
     "metadata": {},
     "output_type": "execute_result"
    }
   ],
   "source": [
    "l2[4] , l2[-1]"
   ]
  },
  {
   "cell_type": "code",
   "execution_count": 10,
   "id": "d5c5eabd-3ea2-458f-9b01-056e9e0fcec5",
   "metadata": {},
   "outputs": [
    {
     "data": {
      "text/plain": [
       "[3, 4, 5]"
      ]
     },
     "execution_count": 10,
     "metadata": {},
     "output_type": "execute_result"
    }
   ],
   "source": [
    "l2[2:5:1]"
   ]
  },
  {
   "cell_type": "code",
   "execution_count": 11,
   "id": "fd3c9900-1c93-472c-a4d9-bdabf5ebf42c",
   "metadata": {},
   "outputs": [
    {
     "data": {
      "text/plain": [
       "['samosa', 5, 4, 3, 2, 1]"
      ]
     },
     "execution_count": 11,
     "metadata": {},
     "output_type": "execute_result"
    }
   ],
   "source": [
    "l2[::-1]"
   ]
  },
  {
   "cell_type": "code",
   "execution_count": 12,
   "id": "e8bd8008-cdb1-47d4-b09d-4dacc433c5a6",
   "metadata": {},
   "outputs": [
    {
     "data": {
      "text/plain": [
       "[1, 2, 3, 4, 5, 'samosa']"
      ]
     },
     "execution_count": 12,
     "metadata": {},
     "output_type": "execute_result"
    }
   ],
   "source": [
    "l3 = l2.copy()\n",
    "l3"
   ]
  },
  {
   "cell_type": "code",
   "execution_count": 13,
   "id": "a9468744-c6a4-4fea-ac3b-17ee9409fa1c",
   "metadata": {},
   "outputs": [
    {
     "data": {
      "text/plain": [
       "[]"
      ]
     },
     "execution_count": 13,
     "metadata": {},
     "output_type": "execute_result"
    }
   ],
   "source": [
    "l4 = []\n",
    "l4"
   ]
  },
  {
   "cell_type": "code",
   "execution_count": 14,
   "id": "4b8b5df2-5e4c-4eac-ac71-3571dbee077f",
   "metadata": {},
   "outputs": [
    {
     "data": {
      "text/plain": [
       "[[1, 2, 3, 4, 5, 'samosa']]"
      ]
     },
     "execution_count": 14,
     "metadata": {},
     "output_type": "execute_result"
    }
   ],
   "source": [
    "l4.append(l3)\n",
    "l4"
   ]
  },
  {
   "cell_type": "code",
   "execution_count": 15,
   "id": "5df4ac1c-9b05-445d-bf22-d758d9166623",
   "metadata": {},
   "outputs": [
    {
     "data": {
      "text/plain": [
       "[[1, 2, 3, 4, 5, 'samosa'], 7]"
      ]
     },
     "execution_count": 15,
     "metadata": {},
     "output_type": "execute_result"
    }
   ],
   "source": [
    "l4.append(7)\n",
    "l4"
   ]
  },
  {
   "cell_type": "code",
   "execution_count": 16,
   "id": "fa255df5-753e-4c8b-a9af-68f1d27a98d2",
   "metadata": {},
   "outputs": [],
   "source": [
    "l4.append(['exam', 8, 9])"
   ]
  },
  {
   "cell_type": "code",
   "execution_count": 17,
   "id": "fb3215ef-dea4-4f5e-95b3-0f4922508546",
   "metadata": {},
   "outputs": [
    {
     "data": {
      "text/plain": [
       "[[1, 2, 3, 4, 5, 'samosa'], 7, ['exam', 8, 9]]"
      ]
     },
     "execution_count": 17,
     "metadata": {},
     "output_type": "execute_result"
    }
   ],
   "source": [
    "l4"
   ]
  },
  {
   "cell_type": "code",
   "execution_count": 18,
   "id": "b80378fa-a25c-4fc3-b133-f879ac6d36ab",
   "metadata": {},
   "outputs": [
    {
     "data": {
      "text/plain": [
       "[1, 2, 3, 4, 5, 'samosa']"
      ]
     },
     "execution_count": 18,
     "metadata": {},
     "output_type": "execute_result"
    }
   ],
   "source": [
    "l2"
   ]
  },
  {
   "cell_type": "code",
   "execution_count": 19,
   "id": "c714df28-ae4c-437b-bde5-a8469615f919",
   "metadata": {},
   "outputs": [
    {
     "data": {
      "text/plain": [
       "[1, 2, 'tiger', 3, 4, 5, 'samosa']"
      ]
     },
     "execution_count": 19,
     "metadata": {},
     "output_type": "execute_result"
    }
   ],
   "source": [
    "l2.insert(2, 'tiger')\n",
    "l2"
   ]
  },
  {
   "cell_type": "code",
   "execution_count": 20,
   "id": "9a294aee-8203-4910-ac3b-578cde08eb63",
   "metadata": {},
   "outputs": [
    {
     "data": {
      "text/plain": [
       "[]"
      ]
     },
     "execution_count": 20,
     "metadata": {},
     "output_type": "execute_result"
    }
   ],
   "source": [
    "l5 = []\n",
    "l5"
   ]
  },
  {
   "cell_type": "code",
   "execution_count": 21,
   "id": "5f5d4e0b-9868-474d-8f25-4b3f06e08706",
   "metadata": {},
   "outputs": [
    {
     "data": {
      "text/plain": [
       "[1, 2, 'tiger', 3, 4, 5, 'samosa']"
      ]
     },
     "execution_count": 21,
     "metadata": {},
     "output_type": "execute_result"
    }
   ],
   "source": [
    "l5.extend(l2)\n",
    "l5"
   ]
  },
  {
   "cell_type": "code",
   "execution_count": 22,
   "id": "1031a0be-62d5-4604-8730-2723377d1946",
   "metadata": {},
   "outputs": [
    {
     "data": {
      "text/plain": [
       "[1, 2, 'tiger', 3, 4, 5, 'samosa', 'hello', 'firm']"
      ]
     },
     "execution_count": 22,
     "metadata": {},
     "output_type": "execute_result"
    }
   ],
   "source": [
    "l5.extend (['hello', 'firm'])\n",
    "l5"
   ]
  },
  {
   "cell_type": "code",
   "execution_count": 23,
   "id": "95e8ea58-d6d3-4613-a456-a3228a07665c",
   "metadata": {},
   "outputs": [
    {
     "data": {
      "text/plain": [
       "[1, 2, 3, 4, 5, 'samosa', 'hello', 'firm']"
      ]
     },
     "execution_count": 23,
     "metadata": {},
     "output_type": "execute_result"
    }
   ],
   "source": [
    "l5.remove('tiger')\n",
    "l5"
   ]
  },
  {
   "cell_type": "code",
   "execution_count": 24,
   "id": "065df148-384a-40f6-906b-177754119b5f",
   "metadata": {},
   "outputs": [
    {
     "data": {
      "text/plain": [
       "[1, 2, 4, 5, 'samosa', 'hello', 'firm']"
      ]
     },
     "execution_count": 24,
     "metadata": {},
     "output_type": "execute_result"
    }
   ],
   "source": [
    "l5.remove(3)\n",
    "l5"
   ]
  },
  {
   "cell_type": "code",
   "execution_count": 25,
   "id": "8acb89f7-f28a-427b-82d8-a703bb17b748",
   "metadata": {},
   "outputs": [
    {
     "data": {
      "text/plain": [
       "[1, 2, 5, 'samosa', 'hello', 'firm']"
      ]
     },
     "execution_count": 25,
     "metadata": {},
     "output_type": "execute_result"
    }
   ],
   "source": [
    "l5.pop(2)\n",
    "l5"
   ]
  },
  {
   "cell_type": "code",
   "execution_count": 26,
   "id": "0fc044e0-505d-4cb2-ae34-bebcad975f80",
   "metadata": {},
   "outputs": [],
   "source": [
    "l5.clear()"
   ]
  },
  {
   "cell_type": "code",
   "execution_count": 27,
   "id": "daf53fc0-5eb6-4ab1-8fdd-148db8390d43",
   "metadata": {},
   "outputs": [
    {
     "data": {
      "text/plain": [
       "[]"
      ]
     },
     "execution_count": 27,
     "metadata": {},
     "output_type": "execute_result"
    }
   ],
   "source": [
    "l5"
   ]
  },
  {
   "cell_type": "code",
   "execution_count": 28,
   "id": "39740fb8-8f29-461a-a3cb-ee0e6a2aa075",
   "metadata": {},
   "outputs": [
    {
     "data": {
      "text/plain": [
       "[2, 6, 44, 32, 1, 0]"
      ]
     },
     "execution_count": 28,
     "metadata": {},
     "output_type": "execute_result"
    }
   ],
   "source": [
    "l6 = [2, 6, 44, 32, 1, 0]\n",
    "l6"
   ]
  },
  {
   "cell_type": "code",
   "execution_count": 29,
   "id": "acb53766-b1e3-4129-99ef-1f86e50247ce",
   "metadata": {},
   "outputs": [
    {
     "data": {
      "text/plain": [
       "[0, 1, 2, 6, 32, 44]"
      ]
     },
     "execution_count": 29,
     "metadata": {},
     "output_type": "execute_result"
    }
   ],
   "source": [
    "l6.sort()\n",
    "l6"
   ]
  },
  {
   "cell_type": "code",
   "execution_count": 30,
   "id": "af17bc59-9fd7-4299-9324-fa7dcc9fcc83",
   "metadata": {},
   "outputs": [
    {
     "data": {
      "text/plain": [
       "[44, 32, 6, 2, 1, 0]"
      ]
     },
     "execution_count": 30,
     "metadata": {},
     "output_type": "execute_result"
    }
   ],
   "source": [
    "l6.sort(reverse=True)\n",
    "l6"
   ]
  },
  {
   "cell_type": "code",
   "execution_count": 31,
   "id": "14de8142-b641-4e03-96d3-a6a270bf45a0",
   "metadata": {},
   "outputs": [
    {
     "data": {
      "text/plain": [
       "[44, 32, 6, 2, 33, 1, 0]"
      ]
     },
     "execution_count": 31,
     "metadata": {},
     "output_type": "execute_result"
    }
   ],
   "source": [
    "l6.insert(4, 33)\n",
    "l6"
   ]
  },
  {
   "cell_type": "code",
   "execution_count": 32,
   "id": "7e1bb4fd-c5fb-4b42-a7c3-c832e71adeab",
   "metadata": {},
   "outputs": [
    {
     "data": {
      "text/plain": [
       "1"
      ]
     },
     "execution_count": 32,
     "metadata": {},
     "output_type": "execute_result"
    }
   ],
   "source": [
    "l6.count(32)"
   ]
  },
  {
   "cell_type": "code",
   "execution_count": 33,
   "id": "d9c044c1-7996-4d1f-8092-0cf47773f967",
   "metadata": {},
   "outputs": [
    {
     "data": {
      "text/plain": [
       "2"
      ]
     },
     "execution_count": 33,
     "metadata": {},
     "output_type": "execute_result"
    }
   ],
   "source": [
    "l6.index(6)"
   ]
  },
  {
   "cell_type": "markdown",
   "id": "b97f8646-c24a-47b8-b9dd-bde9bba4df5f",
   "metadata": {},
   "source": [
    "# Tuple"
   ]
  },
  {
   "cell_type": "code",
   "execution_count": 35,
   "id": "b78ae8dc-77b4-4b32-9294-877fdc706084",
   "metadata": {},
   "outputs": [
    {
     "data": {
      "text/plain": [
       "tuple"
      ]
     },
     "execution_count": 35,
     "metadata": {},
     "output_type": "execute_result"
    }
   ],
   "source": [
    "t = (5,6,7,8,9,0,8,33)\n",
    "type(t)"
   ]
  },
  {
   "cell_type": "code",
   "execution_count": 36,
   "id": "be018475-90a5-4583-a5b3-525fab4e3718",
   "metadata": {},
   "outputs": [
    {
     "data": {
      "text/plain": [
       "2"
      ]
     },
     "execution_count": 36,
     "metadata": {},
     "output_type": "execute_result"
    }
   ],
   "source": [
    "t.count(8)"
   ]
  },
  {
   "cell_type": "markdown",
   "id": "20d3f602-5203-4104-9e64-3d001b3a6188",
   "metadata": {},
   "source": [
    "# set"
   ]
  },
  {
   "cell_type": "code",
   "execution_count": 38,
   "id": "46c4722f-6528-4619-8565-42e2685e0851",
   "metadata": {},
   "outputs": [
    {
     "data": {
      "text/plain": [
       "{34, 8, True, 'sushree'}"
      ]
     },
     "execution_count": 38,
     "metadata": {},
     "output_type": "execute_result"
    }
   ],
   "source": [
    "s = {True, 'sushree', 34, 8}\n",
    "s"
   ]
  },
  {
   "cell_type": "code",
   "execution_count": 39,
   "id": "aba93f74-61c1-4ecf-a3d5-b2c136e916df",
   "metadata": {},
   "outputs": [
    {
     "data": {
      "text/plain": [
       "frozenset({45, 'Tiger', True, 'monk'})"
      ]
     },
     "execution_count": 39,
     "metadata": {},
     "output_type": "execute_result"
    }
   ],
   "source": [
    "s2 = frozenset({'Tiger', 'monk', True, 45})\n",
    "s2"
   ]
  },
  {
   "cell_type": "code",
   "execution_count": 40,
   "id": "91b183b1-e164-42f2-bd82-9e5d00f4d667",
   "metadata": {},
   "outputs": [],
   "source": [
    "s.add(False)"
   ]
  },
  {
   "cell_type": "code",
   "execution_count": 41,
   "id": "9f6cd816-5204-4de4-ab39-a2e84e71f1fd",
   "metadata": {},
   "outputs": [
    {
     "data": {
      "text/plain": [
       "{34, 8, False, True, 'sushree'}"
      ]
     },
     "execution_count": 41,
     "metadata": {},
     "output_type": "execute_result"
    }
   ],
   "source": [
    "s"
   ]
  },
  {
   "cell_type": "code",
   "execution_count": 42,
   "id": "a173bda8-3b44-4b92-a442-d0b203b26c3a",
   "metadata": {},
   "outputs": [],
   "source": [
    "s3 = {1,44,56,3, 5, 7, 9}\n",
    "s4 = {22, 4, 5, 44, 7}"
   ]
  },
  {
   "cell_type": "code",
   "execution_count": 43,
   "id": "286c8d1d-46f6-4260-bfa8-82f5c9fd0e66",
   "metadata": {},
   "outputs": [
    {
     "data": {
      "text/plain": [
       "{1, 3, 4, 5, 7, 9, 22, 44, 56}"
      ]
     },
     "execution_count": 43,
     "metadata": {},
     "output_type": "execute_result"
    }
   ],
   "source": [
    "s5 = s3.union(s4)\n",
    "s5"
   ]
  },
  {
   "cell_type": "code",
   "execution_count": 44,
   "id": "ae44be1e-675d-43a4-b2a3-07489cfdb826",
   "metadata": {},
   "outputs": [
    {
     "data": {
      "text/plain": [
       "{5, 7, 44}"
      ]
     },
     "execution_count": 44,
     "metadata": {},
     "output_type": "execute_result"
    }
   ],
   "source": [
    "s3.intersection(s4)"
   ]
  },
  {
   "cell_type": "code",
   "execution_count": 45,
   "id": "24bca4f9-0151-4da6-8d1e-b9d277a176f2",
   "metadata": {},
   "outputs": [
    {
     "data": {
      "text/plain": [
       "{1, 3, 9, 56}"
      ]
     },
     "execution_count": 45,
     "metadata": {},
     "output_type": "execute_result"
    }
   ],
   "source": [
    "s3.difference(s4)"
   ]
  },
  {
   "cell_type": "code",
   "execution_count": 46,
   "id": "32e2869d-e987-4703-a88a-0e5fdad1712f",
   "metadata": {},
   "outputs": [
    {
     "data": {
      "text/plain": [
       "False"
      ]
     },
     "execution_count": 46,
     "metadata": {},
     "output_type": "execute_result"
    }
   ],
   "source": [
    "s3.issuperset(s5)"
   ]
  },
  {
   "cell_type": "code",
   "execution_count": 47,
   "id": "8cd4d343-94b2-4f44-825d-c512321288f1",
   "metadata": {},
   "outputs": [
    {
     "data": {
      "text/plain": [
       "True"
      ]
     },
     "execution_count": 47,
     "metadata": {},
     "output_type": "execute_result"
    }
   ],
   "source": [
    "s4.issubset(s5)"
   ]
  },
  {
   "cell_type": "code",
   "execution_count": 48,
   "id": "2f4262c8-38f5-4284-8f31-d1524f6a865a",
   "metadata": {},
   "outputs": [
    {
     "data": {
      "text/plain": [
       "1"
      ]
     },
     "execution_count": 48,
     "metadata": {},
     "output_type": "execute_result"
    }
   ],
   "source": [
    "s5.pop()"
   ]
  },
  {
   "cell_type": "code",
   "execution_count": 49,
   "id": "3b5bca30-a749-4289-9ee6-177d20c0183e",
   "metadata": {},
   "outputs": [],
   "source": [
    "s5.remove(5)"
   ]
  },
  {
   "cell_type": "code",
   "execution_count": 50,
   "id": "c7024013-5f31-400a-959f-b5d86eac3e8f",
   "metadata": {},
   "outputs": [
    {
     "data": {
      "text/plain": [
       "{3, 4, 7, 9, 22, 44, 56}"
      ]
     },
     "execution_count": 50,
     "metadata": {},
     "output_type": "execute_result"
    }
   ],
   "source": [
    "s5"
   ]
  },
  {
   "cell_type": "code",
   "execution_count": 51,
   "id": "915a6c2c-cb81-4c66-9c99-e2f74906c947",
   "metadata": {},
   "outputs": [
    {
     "data": {
      "text/plain": [
       "set()"
      ]
     },
     "execution_count": 51,
     "metadata": {},
     "output_type": "execute_result"
    }
   ],
   "source": [
    "s5.clear()\n",
    "s5"
   ]
  },
  {
   "cell_type": "markdown",
   "id": "ef746e3c-ab44-4179-9cf5-6ee3875997ef",
   "metadata": {},
   "source": [
    "# Dictionaire"
   ]
  },
  {
   "cell_type": "code",
   "execution_count": 53,
   "id": "86aab8f2-dbec-4fdb-880b-743424232f2d",
   "metadata": {},
   "outputs": [
    {
     "data": {
      "text/plain": [
       "{'Name': 'Sushree', 'course': 'AI&ML', 'Roll-no': 110}"
      ]
     },
     "execution_count": 53,
     "metadata": {},
     "output_type": "execute_result"
    }
   ],
   "source": [
    "d = {'Name':'Sushree','course':'AI&ML','Roll-no':110}\n",
    "d"
   ]
  },
  {
   "cell_type": "code",
   "execution_count": 54,
   "id": "aca45aea-1e13-46c1-934b-f343d6721a2d",
   "metadata": {},
   "outputs": [
    {
     "data": {
      "text/plain": [
       "{'Name': ['Sushree', 'Pranati', 'Ritu'],\n",
       " 'course': 'AI&ML',\n",
       " 'Roll-no': [110, 89, 93]}"
      ]
     },
     "execution_count": 54,
     "metadata": {},
     "output_type": "execute_result"
    }
   ],
   "source": [
    "d = {'Name': ['Sushree', 'Pranati', 'Ritu'],'course':'AI&ML','Roll-no': [110, 89, 93]}\n",
    "d"
   ]
  },
  {
   "cell_type": "code",
   "execution_count": 55,
   "id": "cdd2fd0d-8ee2-44bc-adf4-c57c0d7ed3ad",
   "metadata": {},
   "outputs": [
    {
     "data": {
      "text/plain": [
       "dict_keys(['Name', 'course', 'Roll-no'])"
      ]
     },
     "execution_count": 55,
     "metadata": {},
     "output_type": "execute_result"
    }
   ],
   "source": [
    "d.keys()"
   ]
  },
  {
   "cell_type": "code",
   "execution_count": 56,
   "id": "8f98036d-828a-4f88-b0c2-557f564b7612",
   "metadata": {},
   "outputs": [
    {
     "data": {
      "text/plain": [
       "dict_values([['Sushree', 'Pranati', 'Ritu'], 'AI&ML', [110, 89, 93]])"
      ]
     },
     "execution_count": 56,
     "metadata": {},
     "output_type": "execute_result"
    }
   ],
   "source": [
    "d.values()"
   ]
  },
  {
   "cell_type": "code",
   "execution_count": 57,
   "id": "b3c1eaf3-b1c2-46e1-9ae9-aba8924ec38a",
   "metadata": {},
   "outputs": [
    {
     "data": {
      "text/plain": [
       "dict_items([('Name', ['Sushree', 'Pranati', 'Ritu']), ('course', 'AI&ML'), ('Roll-no', [110, 89, 93])])"
      ]
     },
     "execution_count": 57,
     "metadata": {},
     "output_type": "execute_result"
    }
   ],
   "source": [
    "d.items()"
   ]
  },
  {
   "cell_type": "markdown",
   "id": "e8d1510d-667f-40cc-a93a-3fa689f3a4c1",
   "metadata": {},
   "source": [
    "# Operators"
   ]
  },
  {
   "cell_type": "code",
   "execution_count": 59,
   "id": "5b214f37-c2e1-4a3e-948f-1607407c004c",
   "metadata": {},
   "outputs": [
    {
     "data": {
      "text/plain": [
       "4"
      ]
     },
     "execution_count": 59,
     "metadata": {},
     "output_type": "execute_result"
    }
   ],
   "source": [
    "5-1"
   ]
  },
  {
   "cell_type": "code",
   "execution_count": 60,
   "id": "1d8ad7fd-bc12-4895-be9a-c1941fbb6acb",
   "metadata": {},
   "outputs": [
    {
     "data": {
      "text/plain": [
       "2.5"
      ]
     },
     "execution_count": 60,
     "metadata": {},
     "output_type": "execute_result"
    }
   ],
   "source": [
    "5/2"
   ]
  },
  {
   "cell_type": "code",
   "execution_count": 61,
   "id": "1290fd13-c381-4a9b-8c01-e8b6a6f4d335",
   "metadata": {},
   "outputs": [
    {
     "data": {
      "text/plain": [
       "2"
      ]
     },
     "execution_count": 61,
     "metadata": {},
     "output_type": "execute_result"
    }
   ],
   "source": [
    "5//2"
   ]
  },
  {
   "cell_type": "code",
   "execution_count": 62,
   "id": "08679d11-0217-41c0-b933-399deec84dc2",
   "metadata": {},
   "outputs": [
    {
     "data": {
      "text/plain": [
       "16"
      ]
     },
     "execution_count": 62,
     "metadata": {},
     "output_type": "execute_result"
    }
   ],
   "source": [
    "4*4"
   ]
  },
  {
   "cell_type": "code",
   "execution_count": 63,
   "id": "699de579-589f-4433-8a38-0e23e908671a",
   "metadata": {},
   "outputs": [
    {
     "data": {
      "text/plain": [
       "16"
      ]
     },
     "execution_count": 63,
     "metadata": {},
     "output_type": "execute_result"
    }
   ],
   "source": [
    "4**2"
   ]
  },
  {
   "cell_type": "code",
   "execution_count": 64,
   "id": "56073dcd-ac70-4767-aa43-48f024163e98",
   "metadata": {},
   "outputs": [
    {
     "data": {
      "text/plain": [
       "0"
      ]
     },
     "execution_count": 64,
     "metadata": {},
     "output_type": "execute_result"
    }
   ],
   "source": [
    "4%2"
   ]
  },
  {
   "cell_type": "markdown",
   "id": "566c53c3-cac4-4878-8da6-cd2e6b3a703b",
   "metadata": {},
   "source": [
    "# Assignment operator"
   ]
  },
  {
   "cell_type": "code",
   "execution_count": 66,
   "id": "cb7bcdec-e81f-469f-9e43-068b7b3a495d",
   "metadata": {},
   "outputs": [
    {
     "data": {
      "text/plain": [
       "4"
      ]
     },
     "execution_count": 66,
     "metadata": {},
     "output_type": "execute_result"
    }
   ],
   "source": [
    "a = 3\n",
    "a += 1\n",
    "a"
   ]
  },
  {
   "cell_type": "code",
   "execution_count": 67,
   "id": "d9c70c3a-3b52-429e-9dc8-162a44d6d573",
   "metadata": {},
   "outputs": [],
   "source": [
    "a += 1"
   ]
  },
  {
   "cell_type": "code",
   "execution_count": 68,
   "id": "823278ea-9d5d-429d-a456-2ac9fb2953f4",
   "metadata": {},
   "outputs": [
    {
     "data": {
      "text/plain": [
       "5"
      ]
     },
     "execution_count": 68,
     "metadata": {},
     "output_type": "execute_result"
    }
   ],
   "source": [
    "a"
   ]
  },
  {
   "cell_type": "code",
   "execution_count": 69,
   "id": "cd26f096-ccf3-4420-95ed-144977f8a5cf",
   "metadata": {},
   "outputs": [
    {
     "data": {
      "text/plain": [
       "4"
      ]
     },
     "execution_count": 69,
     "metadata": {},
     "output_type": "execute_result"
    }
   ],
   "source": [
    "a -= 1\n",
    "a"
   ]
  },
  {
   "cell_type": "code",
   "execution_count": 70,
   "id": "fca6e9a1-e5ed-4254-bc72-cbe62140746f",
   "metadata": {},
   "outputs": [
    {
     "data": {
      "text/plain": [
       "2.0"
      ]
     },
     "execution_count": 70,
     "metadata": {},
     "output_type": "execute_result"
    }
   ],
   "source": [
    "a /= 2\n",
    "a"
   ]
  },
  {
   "cell_type": "code",
   "execution_count": 71,
   "id": "b453c66e-29bf-4770-8dbe-cc648af38fb1",
   "metadata": {},
   "outputs": [
    {
     "data": {
      "text/plain": [
       "1.0"
      ]
     },
     "execution_count": 71,
     "metadata": {},
     "output_type": "execute_result"
    }
   ],
   "source": [
    "a //= 2\n",
    "a"
   ]
  },
  {
   "cell_type": "code",
   "execution_count": 72,
   "id": "7c1cece1-ba79-4da7-b270-7d009a8a7863",
   "metadata": {},
   "outputs": [],
   "source": [
    "a = 2"
   ]
  },
  {
   "cell_type": "code",
   "execution_count": 73,
   "id": "bfbd17ae-7b90-46c3-9814-1d9febaa19bb",
   "metadata": {},
   "outputs": [],
   "source": [
    "a *= 2"
   ]
  },
  {
   "cell_type": "code",
   "execution_count": 74,
   "id": "207864b7-2822-4e41-b92e-6533cb43ca4a",
   "metadata": {},
   "outputs": [
    {
     "data": {
      "text/plain": [
       "16"
      ]
     },
     "execution_count": 74,
     "metadata": {},
     "output_type": "execute_result"
    }
   ],
   "source": [
    "a **= 2\n",
    "a"
   ]
  },
  {
   "cell_type": "code",
   "execution_count": 75,
   "id": "a3da7e4a-2e85-4403-9c5d-46f7aa517c72",
   "metadata": {},
   "outputs": [
    {
     "data": {
      "text/plain": [
       "1"
      ]
     },
     "execution_count": 75,
     "metadata": {},
     "output_type": "execute_result"
    }
   ],
   "source": [
    "a %= 3\n",
    "a"
   ]
  },
  {
   "cell_type": "markdown",
   "id": "1856c02a-f377-4d86-a903-eb7fde763b79",
   "metadata": {},
   "source": [
    "# Comparison Operator"
   ]
  },
  {
   "cell_type": "code",
   "execution_count": 77,
   "id": "13dacffc-7644-43ba-b302-4402a929d364",
   "metadata": {},
   "outputs": [
    {
     "data": {
      "text/plain": [
       "(True, False)"
      ]
     },
     "execution_count": 77,
     "metadata": {},
     "output_type": "execute_result"
    }
   ],
   "source": [
    "5 == 5 , 5 == 6"
   ]
  },
  {
   "cell_type": "code",
   "execution_count": 78,
   "id": "f11f9837-2f03-4c15-b316-64b2401a0b53",
   "metadata": {},
   "outputs": [
    {
     "data": {
      "text/plain": [
       "(False, True)"
      ]
     },
     "execution_count": 78,
     "metadata": {},
     "output_type": "execute_result"
    }
   ],
   "source": [
    "5 != 5 , 5 != 6"
   ]
  },
  {
   "cell_type": "code",
   "execution_count": 79,
   "id": "da9776a2-b976-4d0b-b1c0-39c727f613dc",
   "metadata": {},
   "outputs": [
    {
     "data": {
      "text/plain": [
       "(False, True)"
      ]
     },
     "execution_count": 79,
     "metadata": {},
     "output_type": "execute_result"
    }
   ],
   "source": [
    "5 > 6, 5 < 6"
   ]
  },
  {
   "cell_type": "code",
   "execution_count": 80,
   "id": "5f753531-5629-490b-ac25-d1f208988537",
   "metadata": {},
   "outputs": [
    {
     "data": {
      "text/plain": [
       "(True, True)"
      ]
     },
     "execution_count": 80,
     "metadata": {},
     "output_type": "execute_result"
    }
   ],
   "source": [
    "5 >= 5 , 5 <= 6"
   ]
  },
  {
   "cell_type": "markdown",
   "id": "02ab2c0e-f4c2-4c75-b13d-e4b5a02378f7",
   "metadata": {},
   "source": [
    "logical operator"
   ]
  },
  {
   "cell_type": "code",
   "execution_count": 82,
   "id": "594c3b21-9391-4fdd-8f95-0a6999f1eebb",
   "metadata": {},
   "outputs": [
    {
     "data": {
      "text/plain": [
       "(True, False)"
      ]
     },
     "execution_count": 82,
     "metadata": {},
     "output_type": "execute_result"
    }
   ],
   "source": [
    "(3 == 3) and (2 == 2) , (2 == 3) and (3 == 2)"
   ]
  },
  {
   "cell_type": "code",
   "execution_count": 83,
   "id": "d551c5eb-8936-4c9b-9f6b-23590e43271b",
   "metadata": {},
   "outputs": [
    {
     "data": {
      "text/plain": [
       "(False, True)"
      ]
     },
     "execution_count": 83,
     "metadata": {},
     "output_type": "execute_result"
    }
   ],
   "source": [
    "not (4 == 4) , not (4 == 5)"
   ]
  },
  {
   "cell_type": "code",
   "execution_count": 84,
   "id": "c7795a6a-1816-42d2-a67e-7a51cd868515",
   "metadata": {},
   "outputs": [
    {
     "data": {
      "text/plain": [
       "True"
      ]
     },
     "execution_count": 84,
     "metadata": {},
     "output_type": "execute_result"
    }
   ],
   "source": [
    "'a' in 'apple'"
   ]
  },
  {
   "cell_type": "markdown",
   "id": "17741c25-1b25-4c34-93e9-69da575d1cc8",
   "metadata": {},
   "source": [
    "# Type Casting"
   ]
  },
  {
   "cell_type": "code",
   "execution_count": 86,
   "id": "0a5bad7c-6129-46cf-900d-c0180fe2f5b8",
   "metadata": {},
   "outputs": [
    {
     "data": {
      "text/plain": [
       "str"
      ]
     },
     "execution_count": 86,
     "metadata": {},
     "output_type": "execute_result"
    }
   ],
   "source": [
    "str_ing = '1234'\n",
    "type(str_ing)"
   ]
  },
  {
   "cell_type": "code",
   "execution_count": 87,
   "id": "b35774cf-8da9-4e5e-bb8e-6fb0fe889d4c",
   "metadata": {},
   "outputs": [
    {
     "data": {
      "text/plain": [
       "(1234, int)"
      ]
     },
     "execution_count": 87,
     "metadata": {},
     "output_type": "execute_result"
    }
   ],
   "source": [
    "num = int(str_ing)\n",
    "num, type(num)"
   ]
  },
  {
   "cell_type": "code",
   "execution_count": 88,
   "id": "bf7ed258-0fcc-451a-9222-f77f7f4601f3",
   "metadata": {},
   "outputs": [
    {
     "ename": "ValueError",
     "evalue": "invalid literal for int() with base 10: 'abc'",
     "output_type": "error",
     "traceback": [
      "\u001b[1;31m---------------------------------------------------------------------------\u001b[0m",
      "\u001b[1;31mValueError\u001b[0m                                Traceback (most recent call last)",
      "Cell \u001b[1;32mIn[88], line 1\u001b[0m\n\u001b[1;32m----> 1\u001b[0m \u001b[38;5;28mint\u001b[39m(\u001b[38;5;124m'\u001b[39m\u001b[38;5;124mabc\u001b[39m\u001b[38;5;124m'\u001b[39m)\n",
      "\u001b[1;31mValueError\u001b[0m: invalid literal for int() with base 10: 'abc'"
     ]
    }
   ],
   "source": [
    "int('abc')"
   ]
  },
  {
   "cell_type": "code",
   "execution_count": 89,
   "id": "0592f994-ef44-4057-a58b-d0d20fac5307",
   "metadata": {},
   "outputs": [
    {
     "data": {
      "text/plain": [
       "12345"
      ]
     },
     "execution_count": 89,
     "metadata": {},
     "output_type": "execute_result"
    }
   ],
   "source": [
    "int('12345')"
   ]
  },
  {
   "cell_type": "code",
   "execution_count": 91,
   "id": "a16c1d80-32fa-49b5-80b8-b57936f5b57a",
   "metadata": {},
   "outputs": [
    {
     "data": {
      "text/plain": [
       "1234"
      ]
     },
     "execution_count": 91,
     "metadata": {},
     "output_type": "execute_result"
    }
   ],
   "source": [
    "num"
   ]
  },
  {
   "cell_type": "code",
   "execution_count": 93,
   "id": "ef8c4335-ddfb-4a51-a507-70cc3d0a492e",
   "metadata": {},
   "outputs": [
    {
     "data": {
      "text/plain": [
       "1234.0"
      ]
     },
     "execution_count": 93,
     "metadata": {},
     "output_type": "execute_result"
    }
   ],
   "source": [
    "float(num)"
   ]
  },
  {
   "cell_type": "code",
   "execution_count": 95,
   "id": "d6bd73fe-6cd7-46d3-a834-42de309c39cd",
   "metadata": {},
   "outputs": [
    {
     "data": {
      "text/plain": [
       "(1234+0j)"
      ]
     },
     "execution_count": 95,
     "metadata": {},
     "output_type": "execute_result"
    }
   ],
   "source": [
    "complex(num)"
   ]
  },
  {
   "cell_type": "code",
   "execution_count": 97,
   "id": "31600a1a-6c0c-4edc-8a79-8f7a713b1d03",
   "metadata": {},
   "outputs": [],
   "source": [
    "s = str(num)"
   ]
  },
  {
   "cell_type": "code",
   "execution_count": 99,
   "id": "a23c1dc7-fe3f-4d2c-b386-dc06686ebf67",
   "metadata": {},
   "outputs": [
    {
     "data": {
      "text/plain": [
       "'1234'"
      ]
     },
     "execution_count": 99,
     "metadata": {},
     "output_type": "execute_result"
    }
   ],
   "source": [
    "s"
   ]
  },
  {
   "cell_type": "code",
   "execution_count": 101,
   "id": "2293d01a-9dfa-4c38-96c0-19b7facb4fa8",
   "metadata": {},
   "outputs": [
    {
     "data": {
      "text/plain": [
       "['1', '2', '3', '4']"
      ]
     },
     "execution_count": 101,
     "metadata": {},
     "output_type": "execute_result"
    }
   ],
   "source": [
    "list(s)"
   ]
  },
  {
   "cell_type": "code",
   "execution_count": 103,
   "id": "a1b88b00-64bf-46f0-ad18-ecd20fdbafcc",
   "metadata": {},
   "outputs": [
    {
     "data": {
      "text/plain": [
       "('1', '2', '3', '4')"
      ]
     },
     "execution_count": 103,
     "metadata": {},
     "output_type": "execute_result"
    }
   ],
   "source": [
    "tuple(s)"
   ]
  },
  {
   "cell_type": "code",
   "execution_count": 105,
   "id": "b37f646d-4cb1-4634-ad8e-907a66e01a83",
   "metadata": {},
   "outputs": [
    {
     "data": {
      "text/plain": [
       "{'1', '2', '3', '4'}"
      ]
     },
     "execution_count": 105,
     "metadata": {},
     "output_type": "execute_result"
    }
   ],
   "source": [
    "set(s)"
   ]
  },
  {
   "cell_type": "markdown",
   "id": "b3f69e02-7c5f-4197-9369-c122be7649f0",
   "metadata": {},
   "source": [
    "# Built In Function"
   ]
  },
  {
   "cell_type": "code",
   "execution_count": 108,
   "id": "3613f986-0e21-4162-86e5-9621e4af2134",
   "metadata": {},
   "outputs": [
    {
     "name": "stdout",
     "output_type": "stream",
     "text": [
      "😌 😊\n"
     ]
    }
   ],
   "source": [
    "print(\"😌 😊\")"
   ]
  },
  {
   "cell_type": "code",
   "execution_count": 110,
   "id": "fd0ab8a8-7a29-4468-95d3-fea2ccd57ae6",
   "metadata": {},
   "outputs": [
    {
     "data": {
      "text/plain": [
       "'sushreeBiswal'"
      ]
     },
     "execution_count": 110,
     "metadata": {},
     "output_type": "execute_result"
    }
   ],
   "source": [
    "# concat\n",
    "'sushree' + 'Biswal' "
   ]
  },
  {
   "cell_type": "code",
   "execution_count": 112,
   "id": "c3390bda-b2df-4671-b273-500155c1def8",
   "metadata": {},
   "outputs": [
    {
     "data": {
      "text/plain": [
       "'HelloHelloHello'"
      ]
     },
     "execution_count": 112,
     "metadata": {},
     "output_type": "execute_result"
    }
   ],
   "source": [
    "'Hello'*3"
   ]
  },
  {
   "cell_type": "code",
   "execution_count": 114,
   "id": "2039f7a2-8bcb-42d3-b789-33b3c2efad91",
   "metadata": {},
   "outputs": [
    {
     "name": "stdout",
     "output_type": "stream",
     "text": [
      "👌👌👌👌👌\n"
     ]
    }
   ],
   "source": [
    "print('👌'*5)"
   ]
  },
  {
   "cell_type": "code",
   "execution_count": 116,
   "id": "e044e3d7-2f0d-4791-8646-b9df8bdfc72d",
   "metadata": {},
   "outputs": [
    {
     "data": {
      "text/plain": [
       "int"
      ]
     },
     "execution_count": 116,
     "metadata": {},
     "output_type": "execute_result"
    }
   ],
   "source": [
    "# it shows the type of the variable\n",
    "type(num)"
   ]
  },
  {
   "cell_type": "code",
   "execution_count": 118,
   "id": "ee48e56f-6885-4187-a79e-3d4c2b22546e",
   "metadata": {},
   "outputs": [
    {
     "data": {
      "text/plain": [
       "('1234', 4)"
      ]
     },
     "execution_count": 118,
     "metadata": {},
     "output_type": "execute_result"
    }
   ],
   "source": [
    "# it shows the length of the variable\n",
    "s, len(s) "
   ]
  },
  {
   "cell_type": "code",
   "execution_count": 120,
   "id": "2f6c5577-1cb8-469b-9d14-01d6f827115c",
   "metadata": {},
   "outputs": [
    {
     "data": {
      "text/plain": [
       "200"
      ]
     },
     "execution_count": 120,
     "metadata": {},
     "output_type": "execute_result"
    }
   ],
   "source": [
    "sum([1, 3, 44, 67, 85])"
   ]
  },
  {
   "cell_type": "code",
   "execution_count": 122,
   "id": "03e8e473-853c-4fc7-9821-a7c5d8ccfc74",
   "metadata": {},
   "outputs": [
    {
     "name": "stdin",
     "output_type": "stream",
     "text": [
      "Enter a number 676487\n"
     ]
    },
    {
     "data": {
      "text/plain": [
       "'676487'"
      ]
     },
     "execution_count": 122,
     "metadata": {},
     "output_type": "execute_result"
    }
   ],
   "source": [
    "input(\"Enter a number\")"
   ]
  },
  {
   "cell_type": "markdown",
   "id": "4993e691-2ccc-4fb7-ae4f-5a17e519f156",
   "metadata": {},
   "source": [
    "# Conditional Operator"
   ]
  },
  {
   "cell_type": "code",
   "execution_count": 125,
   "id": "dc5ee408-3aeb-42f3-9a56-b56c94961254",
   "metadata": {},
   "outputs": [],
   "source": [
    "if False:\n",
    "    print(\"Condition is true\")"
   ]
  },
  {
   "cell_type": "code",
   "execution_count": 127,
   "id": "732d40a8-84ff-4123-bdf0-f51e124c161b",
   "metadata": {},
   "outputs": [
    {
     "name": "stdout",
     "output_type": "stream",
     "text": [
      "condition is not true\n"
     ]
    }
   ],
   "source": [
    "if False:\n",
    "    print('Condition is true')\n",
    "else:\n",
    "    print('condition is not true')"
   ]
  },
  {
   "cell_type": "code",
   "execution_count": 129,
   "id": "1b2fb286-1203-4eb0-af2b-ab2f115d3288",
   "metadata": {},
   "outputs": [
    {
     "name": "stdout",
     "output_type": "stream",
     "text": [
      "Condition is true\n"
     ]
    }
   ],
   "source": [
    "if True:\n",
    "    print('Condition is true')\n",
    "else:\n",
    "    print('condition is false')"
   ]
  },
  {
   "cell_type": "code",
   "execution_count": 133,
   "id": "f0a1d5c1-cbe5-4693-9e0d-261d0e579fc7",
   "metadata": {},
   "outputs": [
    {
     "name": "stdout",
     "output_type": "stream",
     "text": [
      "Nothing is true\n"
     ]
    }
   ],
   "source": [
    "if False:\n",
    "    print('Condition is true')\n",
    "elif True:\n",
    "    print('Nothing is true')\n",
    "elif False:\n",
    "    print('World shall burn')\n",
    "else:\n",
    "    print('bitch!')"
   ]
  },
  {
   "cell_type": "code",
   "execution_count": 135,
   "id": "5baeab71-2ff0-480d-915e-907b09041197",
   "metadata": {},
   "outputs": [
    {
     "name": "stdout",
     "output_type": "stream",
     "text": [
      "6 num is divisible by 3\n"
     ]
    }
   ],
   "source": [
    "# nested if\n",
    "\n",
    "num = 6\n",
    "if num % 2 == 0:\n",
    "    if num % 3 == 0:\n",
    "        print(num, 'num is divisible by 3')\n",
    "    else:\n",
    "        print(num, 'num is divisible by 2 not 3')\n",
    "else:\n",
    "    print(num, 'num is divisible by 2')"
   ]
  },
  {
   "cell_type": "code",
   "execution_count": 137,
   "id": "691db1cb-08a8-4122-aa43-3add0709adbd",
   "metadata": {},
   "outputs": [],
   "source": [
    "# single line if statement"
   ]
  },
  {
   "cell_type": "code",
   "execution_count": 139,
   "id": "d14dc866-cb62-40e2-9a01-a74d51773a4c",
   "metadata": {},
   "outputs": [
    {
     "data": {
      "text/plain": [
       "'odd'"
      ]
     },
     "execution_count": 139,
     "metadata": {},
     "output_type": "execute_result"
    }
   ],
   "source": [
    "'even' if 4%2 else 'odd'"
   ]
  },
  {
   "cell_type": "code",
   "execution_count": 141,
   "id": "65ec72fa-e712-4b67-8e67-0ebd5155c97e",
   "metadata": {},
   "outputs": [
    {
     "data": {
      "text/plain": [
       "'no hi'"
      ]
     },
     "execution_count": 141,
     "metadata": {},
     "output_type": "execute_result"
    }
   ],
   "source": [
    "'Hi' if 6==5 else ('2Hi' if 6 == 7 else 'no hi')"
   ]
  },
  {
   "cell_type": "markdown",
   "id": "dff090b5-798b-4ffc-ac97-56e01f221f5a",
   "metadata": {},
   "source": [
    "# Assignments"
   ]
  },
  {
   "cell_type": "code",
   "execution_count": 144,
   "id": "4e1d6280-0120-4c0e-ac6a-c9edc9d2156e",
   "metadata": {},
   "outputs": [],
   "source": [
    "#q1"
   ]
  },
  {
   "cell_type": "code",
   "execution_count": 146,
   "id": "889b9704-a862-4dda-8bb1-2d2661f0404e",
   "metadata": {},
   "outputs": [
    {
     "name": "stdin",
     "output_type": "stream",
     "text": [
      "Enter an integer:  44\n"
     ]
    },
    {
     "name": "stdout",
     "output_type": "stream",
     "text": [
      "num is positive\n"
     ]
    }
   ],
   "source": [
    "num = int(input(\"Enter an integer: \"))\n",
    "if num > 0:\n",
    "    print(\"num is positive\")\n",
    "elif num == 0:\n",
    "    print(\"num is equal to zero\")\n",
    "else:\n",
    "    print(\"num is negative\")"
   ]
  },
  {
   "cell_type": "code",
   "execution_count": 150,
   "id": "bb461a23-a2de-4097-b236-7ed5e6df0294",
   "metadata": {},
   "outputs": [
    {
     "name": "stdin",
     "output_type": "stream",
     "text": [
      "Enter a valid number:  2024\n"
     ]
    },
    {
     "name": "stdout",
     "output_type": "stream",
     "text": [
      "Leap year\n"
     ]
    }
   ],
   "source": [
    "#q2\n",
    "year = int(input(\"Enter a valid number: \"))\n",
    "if year%4 == 0 and year%100 != 0 or year%400 == 0:\n",
    "    print(\"Leap year\")\n",
    "else:\n",
    "    print(\"not a leap year\")"
   ]
  },
  {
   "cell_type": "code",
   "execution_count": 160,
   "id": "b14f6f10-7032-4438-b6aa-b9715c61f03c",
   "metadata": {},
   "outputs": [
    {
     "name": "stdin",
     "output_type": "stream",
     "text": [
      "Enter a number between 0-100 100\n"
     ]
    },
    {
     "name": "stdout",
     "output_type": "stream",
     "text": [
      "A\n"
     ]
    }
   ],
   "source": [
    "#q3\n",
    "mark = int(input(\"Enter a number between 0-100\"))\n",
    "if mark in range (90, 101):\n",
    "    print(\"A\")\n",
    "elif mark in range (80, 90):\n",
    "    print(\"B\")\n",
    "elif mark in range (70, 80):\n",
    "    print(\"C\")\n",
    "elif mark in range (60, 70):\n",
    "    print(\"D\")\n",
    "else:\n",
    "    print(\"F\")"
   ]
  },
  {
   "cell_type": "code",
   "execution_count": 166,
   "id": "2dd35368-64ac-47be-a1d5-e3af98b5d7af",
   "metadata": {},
   "outputs": [
    {
     "name": "stdin",
     "output_type": "stream",
     "text": [
      "Enter valid age:  22\n"
     ]
    },
    {
     "name": "stdout",
     "output_type": "stream",
     "text": [
      "Adult\n"
     ]
    }
   ],
   "source": [
    "#q4\n",
    "x = int(input(\"Enter valid age: \"))\n",
    "if x in range (0, 13):\n",
    "    print(\"Child\")\n",
    "elif x in range (13, 20):\n",
    "    print(\"Teenage\")\n",
    "elif x in range (20, 65):\n",
    "    print(\"Adult\")\n",
    "else:\n",
    "    print(\"Senior\")"
   ]
  },
  {
   "cell_type": "code",
   "execution_count": 172,
   "id": "64d5ff4c-9fb1-4a40-9cc5-32fa7574e331",
   "metadata": {},
   "outputs": [
    {
     "name": "stdin",
     "output_type": "stream",
     "text": [
      "Enter a letter:  g\n"
     ]
    },
    {
     "name": "stdout",
     "output_type": "stream",
     "text": [
      "consonant\n"
     ]
    }
   ],
   "source": [
    "#q5\n",
    "a = str(input(\"Enter a letter: \"))\n",
    "v = ['a','e','i','o','u']\n",
    "if a in v:\n",
    "    print(\"Vowel\")\n",
    "else:\n",
    "    print(\"consonant\")"
   ]
  },
  {
   "cell_type": "code",
   "execution_count": 178,
   "id": "b84d2535-d491-4ec7-a02d-d8d10a93ec66",
   "metadata": {},
   "outputs": [
    {
     "name": "stdin",
     "output_type": "stream",
     "text": [
      "Enter a num:  33\n",
      "Enter a num:  0\n"
     ]
    },
    {
     "name": "stdout",
     "output_type": "stream",
     "text": [
      "one of them is zero\n"
     ]
    }
   ],
   "source": [
    "#q6\n",
    "x = int(input(\"Enter a num: \"))\n",
    "y = int(input(\"Enter a num: \"))\n",
    "if x > 0 and y > 0:\n",
    "    print(\"Both are positive\")\n",
    "elif x < 0 and y < 0:\n",
    "    print(\"Both are negativ\")\n",
    "elif (x > 0 and y < 0) or (x < 0 and y > 0):\n",
    "    print(\"one is positive & one is negative\")\n",
    "else:\n",
    "    print(\"one of them is zero\")"
   ]
  },
  {
   "cell_type": "code",
   "execution_count": null,
   "id": "c0c7aafd-95b8-4db2-b86d-94aee4d1ad6c",
   "metadata": {},
   "outputs": [],
   "source": []
  }
 ],
 "metadata": {
  "kernelspec": {
   "display_name": "Python 3 (ipykernel)",
   "language": "python",
   "name": "python3"
  },
  "language_info": {
   "codemirror_mode": {
    "name": "ipython",
    "version": 3
   },
   "file_extension": ".py",
   "mimetype": "text/x-python",
   "name": "python",
   "nbconvert_exporter": "python",
   "pygments_lexer": "ipython3",
   "version": "3.12.4"
  }
 },
 "nbformat": 4,
 "nbformat_minor": 5
}
