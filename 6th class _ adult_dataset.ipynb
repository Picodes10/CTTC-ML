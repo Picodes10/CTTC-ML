{
 "cells": [
  {
   "cell_type": "code",
   "execution_count": null,
   "id": "3e411ddd-0bd7-4a8c-af80-c2c8c9c4cff4",
   "metadata": {},
   "outputs": [],
   "source": [
    "# Adult dataset"
   ]
  },
  {
   "cell_type": "code",
   "execution_count": null,
   "id": "566e7487-2077-4cc4-9b83-c77fd6a19004",
   "metadata": {},
   "outputs": [],
   "source": [
    "import pandas as pd\n",
    "import numpy as np"
   ]
  },
  {
   "cell_type": "code",
   "execution_count": null,
   "id": "7cf97b0c-57f9-452d-9a40-62a75027031c",
   "metadata": {},
   "outputs": [],
   "source": [
    "adult = pd.read_csv(r\"C:\\Users\\DELL\\Downloads\\adult\\adult.data\",header=None)\n",
    "adult"
   ]
  },
  {
   "cell_type": "code",
   "execution_count": null,
   "id": "aa992fda-02d1-4f7a-8d07-96eaa92e7040",
   "metadata": {},
   "outputs": [],
   "source": [
    "adult.columns = ['age','workclass','fnlwgt','education','education-num','maratial_status','occupation','relationship','race','sex','capital_gain','capital_loss','hours_per_week','native_country','income']\n",
    "adult"
   ]
  },
  {
   "cell_type": "code",
   "execution_count": null,
   "id": "ccf29a3c-51c6-4090-92aa-4eb6a3b53b79",
   "metadata": {},
   "outputs": [],
   "source": [
    "adult.info()"
   ]
  },
  {
   "cell_type": "code",
   "execution_count": null,
   "id": "45ed40bf-b978-442a-ba86-5f352831d5da",
   "metadata": {},
   "outputs": [],
   "source": [
    "adult.head(5)"
   ]
  },
  {
   "cell_type": "code",
   "execution_count": null,
   "id": "071d5d03-3044-40fa-95ed-16b6e07c4493",
   "metadata": {},
   "outputs": [],
   "source": [
    "adult.tail(5)"
   ]
  },
  {
   "cell_type": "code",
   "execution_count": null,
   "id": "05532b69-9c1d-4cd8-a6aa-d15a3e2efd98",
   "metadata": {},
   "outputs": [],
   "source": [
    "adult.describe()"
   ]
  },
  {
   "cell_type": "code",
   "execution_count": null,
   "id": "0f0c8cca-0123-4c30-9627-3d581d8ee62c",
   "metadata": {},
   "outputs": [],
   "source": [
    "adult.isnull().sum()"
   ]
  },
  {
   "cell_type": "code",
   "execution_count": null,
   "id": "27e42ee1-df84-42db-95e4-60deb9dfc120",
   "metadata": {},
   "outputs": [],
   "source": [
    "for i in adult:\n",
    "    print(i,adult[i].unique())"
   ]
  },
  {
   "cell_type": "code",
   "execution_count": null,
   "id": "38b92576-20a1-476d-b40f-d197d0a0d77e",
   "metadata": {},
   "outputs": [],
   "source": [
    "for i in adult:\n",
    "    print(i, adult[i]==' ?')"
   ]
  },
  {
   "cell_type": "code",
   "execution_count": null,
   "id": "660a2993-eaae-4a9d-8543-207868b9d038",
   "metadata": {},
   "outputs": [],
   "source": [
    "for i in adult:\n",
    "    print(i, '=', sum(adult[i]==' ?'))"
   ]
  },
  {
   "cell_type": "code",
   "execution_count": null,
   "id": "13d142ab-abae-413f-ab54-57401989319f",
   "metadata": {},
   "outputs": [],
   "source": [
    "adult.workclass.describe()"
   ]
  },
  {
   "cell_type": "code",
   "execution_count": null,
   "id": "9a93df67-1ffb-4b84-962a-3754aa3c173c",
   "metadata": {},
   "outputs": [],
   "source": [
    "adult.occupation.describe()"
   ]
  },
  {
   "cell_type": "code",
   "execution_count": null,
   "id": "8bedddcb-7dad-47bf-9134-9ca45b791185",
   "metadata": {},
   "outputs": [],
   "source": [
    "adult.native_country.describe()"
   ]
  },
  {
   "cell_type": "code",
   "execution_count": null,
   "id": "75ce7dbe-9287-43d5-913d-845e8e7e29cb",
   "metadata": {},
   "outputs": [],
   "source": [
    "adult.workclass = adult.workclass.replace(' ?',' private')\n",
    "adult.occupation = adult.occupation.replace(' ?',' prof-speciality')\n",
    "adult.native_country = adult.native_country.replace(' ?',' United-States')"
   ]
  },
  {
   "cell_type": "code",
   "execution_count": null,
   "id": "ffc099d2-2de2-477c-a8c5-e04fca324ebb",
   "metadata": {},
   "outputs": [],
   "source": [
    "for i in adult:\n",
    "    print(i, '=', sum(adult[i]==' ?'))"
   ]
  }
 ],
 "metadata": {
  "kernelspec": {
   "display_name": "Python 3 (ipykernel)",
   "language": "python",
   "name": "python3"
  },
  "language_info": {
   "codemirror_mode": {
    "name": "ipython",
    "version": 3
   },
   "file_extension": ".py",
   "mimetype": "text/x-python",
   "name": "python",
   "nbconvert_exporter": "python",
   "pygments_lexer": "ipython3",
   "version": "3.12.4"
  }
 },
 "nbformat": 4,
 "nbformat_minor": 5
}
