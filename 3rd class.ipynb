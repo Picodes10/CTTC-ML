{
 "cells": [
  {
   "cell_type": "markdown",
   "id": "d915a673-fd35-47a9-b3b3-51823b5bc332",
   "metadata": {},
   "source": [
    "# Loop"
   ]
  },
  {
   "cell_type": "code",
   "execution_count": null,
   "id": "91bd6bcf-254e-4d4e-8c19-82e73fe2aeba",
   "metadata": {},
   "outputs": [],
   "source": [
    "a = 'GCEKJR'"
   ]
  },
  {
   "cell_type": "code",
   "execution_count": null,
   "id": "68116363-1dcf-40ce-8afd-faaf621343c4",
   "metadata": {},
   "outputs": [],
   "source": [
    "for i in a:\n",
    "    print(i)"
   ]
  },
  {
   "cell_type": "code",
   "execution_count": null,
   "id": "39a717ec-6857-4eab-b759-894588978623",
   "metadata": {},
   "outputs": [],
   "source": [
    "for b in [2,35,7,9]:\n",
    "    print(b)"
   ]
  },
  {
   "cell_type": "code",
   "execution_count": null,
   "id": "22844fd7-e0f4-41a3-9c83-c7e196058b11",
   "metadata": {},
   "outputs": [],
   "source": [
    "for i in range(0,11,2):\n",
    "    print(i,end=',')"
   ]
  },
  {
   "cell_type": "code",
   "execution_count": null,
   "id": "8fc2e98a-a4a6-41ee-8307-39e6c55542d4",
   "metadata": {},
   "outputs": [],
   "source": [
    "n = 1\n",
    "while n < 11:\n",
    "    print(n)\n",
    "    n = n + 1"
   ]
  },
  {
   "cell_type": "code",
   "execution_count": null,
   "id": "1542ea60-3098-46d2-8231-66726f858069",
   "metadata": {},
   "outputs": [],
   "source": [
    "# q1\n",
    "for i in range (1, 11):\n",
    "    print(i)"
   ]
  },
  {
   "cell_type": "code",
   "execution_count": null,
   "id": "3c21836d-dcde-4362-a4db-cdda5daa49ec",
   "metadata": {},
   "outputs": [],
   "source": [
    "# q2\n",
    "N = int(input(\"Enter N= \"))\n",
    "sum = 0\n",
    "for i in range (1, N+1):\n",
    "    sum = sum + i\n",
    "print(sum)"
   ]
  },
  {
   "cell_type": "code",
   "execution_count": null,
   "id": "32e6a324-41b0-4412-8b2f-bb7b4144c83a",
   "metadata": {},
   "outputs": [],
   "source": [
    "# q3\n",
    "N = int(input(\"Enter N= \"))\n",
    "f = 1\n",
    "for i in range (1, N+1):\n",
    "    f = f * i\n",
    "print(f)"
   ]
  },
  {
   "cell_type": "code",
   "execution_count": null,
   "id": "6520bfdd-d7af-4e44-b77e-8ff8c4f015af",
   "metadata": {},
   "outputs": [],
   "source": [
    "# q4\n",
    "s = \"Hello World\"\n",
    "for char in s:\n",
    "    print(char)"
   ]
  },
  {
   "cell_type": "code",
   "execution_count": null,
   "id": "bf6d0597-a69a-4f41-a2d7-df93d0d2350d",
   "metadata": {},
   "outputs": [],
   "source": [
    "# q5\n",
    "s = str(input(\"Enter a string: \"))\n",
    "count = 0\n",
    "for i in s:\n",
    "    if i in 'aeiou':\n",
    "        count += 1\n",
    "print(count)"
   ]
  },
  {
   "cell_type": "code",
   "execution_count": null,
   "id": "47bddd6e-f00d-4df4-9d9e-01401b50332b",
   "metadata": {},
   "outputs": [],
   "source": [
    "# q6\n",
    "N = int(input(\"Enter N: \"))\n",
    "for i in range(1, 11):\n",
    "    print(f\"{N} * {i} = {N * i}\")"
   ]
  },
  {
   "cell_type": "code",
   "execution_count": null,
   "id": "451326b1-c519-466c-a8e3-445b7d1f58d5",
   "metadata": {},
   "outputs": [],
   "source": [
    "# q7\n",
    "word = input(\"Enter a word: \")\n",
    "rev = \"\"\n",
    "for i in word:\n",
    "    rev = i + rev\n",
    "\n",
    "if rev == word:\n",
    "    print(\"pallindrome\")\n",
    "else:\n",
    "    print(\"not pallindrome\")"
   ]
  },
  {
   "cell_type": "markdown",
   "id": "89670626-4257-43b9-80bc-cf2c221126fa",
   "metadata": {},
   "source": [
    "# while"
   ]
  },
  {
   "cell_type": "code",
   "execution_count": null,
   "id": "4b304f0a-af93-4385-8c13-b2eeda0ace49",
   "metadata": {},
   "outputs": [],
   "source": [
    "# q1\n",
    "N = int(input(\"Enter a number: \"))\n",
    "i=1\n",
    "while (i <= N):\n",
    "    print(i)\n",
    "    i += 1"
   ]
  },
  {
   "cell_type": "code",
   "execution_count": null,
   "id": "d32d854b-c67e-4261-ab34-d7c8458a93d3",
   "metadata": {},
   "outputs": [],
   "source": [
    "# q2\n",
    "N = int(input(\"Enter N= \"))\n",
    "sum = 0\n",
    "i = 1\n",
    "while i <= N:\n",
    "    sum = sum + i\n",
    "    i += 1\n",
    "sum"
   ]
  },
  {
   "cell_type": "code",
   "execution_count": null,
   "id": "8edb47b6-e4d6-4a15-9592-7d8b0f9d9dd4",
   "metadata": {},
   "outputs": [],
   "source": [
    "# q3\n",
    "N = int(input(\"Enter N= \"))\n",
    "f = 1\n",
    "i = 1\n",
    "if N == 0 and N == 1:\n",
    "    print(f)\n",
    "else:\n",
    "    while i <= N:\n",
    "        f = f * i\n",
    "        i += 1\n",
    "print(f)"
   ]
  },
  {
   "cell_type": "code",
   "execution_count": null,
   "id": "c5f593dd-e94c-4c83-971c-941225663c3a",
   "metadata": {},
   "outputs": [],
   "source": [
    "# q4\n",
    "s = \"Hello World\"\n",
    "i = 0\n",
    "while i < len(s):\n",
    "    print(s[i])\n",
    "    i += 1"
   ]
  },
  {
   "cell_type": "code",
   "execution_count": null,
   "id": "34f721da-ea06-481a-b2c7-b82cef2d8d25",
   "metadata": {},
   "outputs": [],
   "source": [
    "# q5\n",
    "N = int(input(\"Enter N: \"))\n",
    "i = 1\n",
    "end = 10\n",
    "while i <= end:\n",
    "    print(f\"{N} * {i} = {N * i}\")\n",
    "    i += 1"
   ]
  },
  {
   "cell_type": "markdown",
   "id": "3fe6515f-42ba-442d-9ec2-29096b4cda0a",
   "metadata": {},
   "source": [
    "# functions"
   ]
  },
  {
   "cell_type": "code",
   "execution_count": null,
   "id": "b23383f8-4406-4709-b4a4-3c5174a821ec",
   "metadata": {},
   "outputs": [],
   "source": [
    "def hello():\n",
    "    return 'hi'"
   ]
  },
  {
   "cell_type": "code",
   "execution_count": null,
   "id": "1298e79c-ab86-4488-8b39-268480bb90fe",
   "metadata": {},
   "outputs": [],
   "source": [
    "hello()"
   ]
  },
  {
   "cell_type": "code",
   "execution_count": null,
   "id": "3c59ec64-c9ee-40d3-9572-218e45a52935",
   "metadata": {},
   "outputs": [],
   "source": [
    "def add(a,b):\n",
    "    return a+b"
   ]
  },
  {
   "cell_type": "code",
   "execution_count": null,
   "id": "35dae0a6-d73e-4e6b-919d-f6c1090ab51c",
   "metadata": {},
   "outputs": [],
   "source": [
    "add('sushree','biswal')"
   ]
  },
  {
   "cell_type": "code",
   "execution_count": null,
   "id": "078d2669-1eeb-408b-ac65-5946da45e81c",
   "metadata": {},
   "outputs": [],
   "source": [
    "add(333, 5)"
   ]
  },
  {
   "cell_type": "code",
   "execution_count": null,
   "id": "639bda61-7ce0-442c-9c18-7973ba9ffc64",
   "metadata": {},
   "outputs": [],
   "source": [
    "def add1(a=0,b=0):\n",
    "    return a+b"
   ]
  },
  {
   "cell_type": "code",
   "execution_count": null,
   "id": "8237b4ad-7c46-4803-a1a3-ad2e8272d2a0",
   "metadata": {},
   "outputs": [],
   "source": [
    "add1('prani','jena')"
   ]
  },
  {
   "cell_type": "code",
   "execution_count": null,
   "id": "a6ea5620-c40e-4615-a42c-2aeff0572853",
   "metadata": {},
   "outputs": [],
   "source": [
    "# funtion with multiple arguments\n",
    "def add2(*a):\n",
    "    return a"
   ]
  },
  {
   "cell_type": "code",
   "execution_count": null,
   "id": "5c75ca00-0cc0-4772-a85b-3781ccce21b0",
   "metadata": {},
   "outputs": [],
   "source": [
    "add2(3,4,5,6,7,90)"
   ]
  },
  {
   "cell_type": "code",
   "execution_count": null,
   "id": "8ea5abb5-fa36-4440-911a-4981fe9a6675",
   "metadata": {},
   "outputs": [],
   "source": [
    "# commulative summation"
   ]
  },
  {
   "cell_type": "code",
   "execution_count": 5,
   "id": "bd163ea9-d23c-4a88-b79a-ec6e1a87eb7f",
   "metadata": {},
   "outputs": [],
   "source": [
    "def cumsum(n):\n",
    "    sum = 0\n",
    "    for i in range(1, n+1):\n",
    "        sum += i\n",
    "    return sum"
   ]
  },
  {
   "cell_type": "code",
   "execution_count": 7,
   "id": "7a0a241c-f6ad-4001-ab76-84cc964027fe",
   "metadata": {},
   "outputs": [
    {
     "data": {
      "text/plain": [
       "21"
      ]
     },
     "execution_count": 7,
     "metadata": {},
     "output_type": "execute_result"
    }
   ],
   "source": [
    "cumsum(6)"
   ]
  },
  {
   "cell_type": "code",
   "execution_count": 9,
   "id": "cfadcf4e-1eec-49f0-955e-5ef2ae7bffb0",
   "metadata": {},
   "outputs": [],
   "source": [
    "# find the prime from the user"
   ]
  },
  {
   "cell_type": "code",
   "execution_count": 11,
   "id": "b2058ac6-ec70-4f3c-9314-0a72344dfebd",
   "metadata": {},
   "outputs": [],
   "source": [
    "def prime(n):\n",
    "    factor = 0\n",
    "    for i in range(1, n+1):\n",
    "        if n%i == 0:\n",
    "            factor = factor + 1\n",
    "    if factor == 2:\n",
    "        return 'prime'\n",
    "    else:\n",
    "        return 'composite'"
   ]
  },
  {
   "cell_type": "code",
   "execution_count": 13,
   "id": "bebddd97-84c8-4aa9-a138-b38b2ee10880",
   "metadata": {},
   "outputs": [
    {
     "data": {
      "text/plain": [
       "'prime'"
      ]
     },
     "execution_count": 13,
     "metadata": {},
     "output_type": "execute_result"
    }
   ],
   "source": [
    "prime(7)"
   ]
  },
  {
   "cell_type": "code",
   "execution_count": 15,
   "id": "60c5cf7f-f68e-40c4-9d84-c97401f3f1e5",
   "metadata": {},
   "outputs": [
    {
     "data": {
      "text/plain": [
       "'composite'"
      ]
     },
     "execution_count": 15,
     "metadata": {},
     "output_type": "execute_result"
    }
   ],
   "source": [
    "prime(8)"
   ]
  },
  {
   "cell_type": "code",
   "execution_count": null,
   "id": "8f2a93c5-c015-4d72-82e9-da9451fac79f",
   "metadata": {},
   "outputs": [],
   "source": []
  }
 ],
 "metadata": {
  "kernelspec": {
   "display_name": "Python 3 (ipykernel)",
   "language": "python",
   "name": "python3"
  },
  "language_info": {
   "codemirror_mode": {
    "name": "ipython",
    "version": 3
   },
   "file_extension": ".py",
   "mimetype": "text/x-python",
   "name": "python",
   "nbconvert_exporter": "python",
   "pygments_lexer": "ipython3",
   "version": "3.12.4"
  }
 },
 "nbformat": 4,
 "nbformat_minor": 5
}
