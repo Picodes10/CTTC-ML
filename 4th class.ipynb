{
 "cells": [
  {
   "cell_type": "markdown",
   "id": "96695b7a-f5e0-4249-bbb3-361515844eb5",
   "metadata": {},
   "source": [
    "# oops"
   ]
  },
  {
   "cell_type": "code",
   "execution_count": 2,
   "id": "cfa75b08-6a2f-48ca-afab-d71e2ce14c9c",
   "metadata": {},
   "outputs": [],
   "source": [
    "class bike():\n",
    "    gear = 0\n",
    "    bike_name = '' #empty"
   ]
  },
  {
   "cell_type": "code",
   "execution_count": 3,
   "id": "92edaffe-0f9e-4068-987a-f79b08bcd838",
   "metadata": {},
   "outputs": [],
   "source": [
    "bike1 = bike() #class instanse"
   ]
  },
  {
   "cell_type": "code",
   "execution_count": 4,
   "id": "7495ccda-2405-4f1a-af3b-0736b5e51d16",
   "metadata": {},
   "outputs": [],
   "source": [
    "bike1.bike_name = 'Honda'"
   ]
  },
  {
   "cell_type": "code",
   "execution_count": 5,
   "id": "a6a3493c-8f56-4c3c-b7c5-bd1dfde1a551",
   "metadata": {},
   "outputs": [
    {
     "data": {
      "text/plain": [
       "'Honda'"
      ]
     },
     "execution_count": 5,
     "metadata": {},
     "output_type": "execute_result"
    }
   ],
   "source": [
    "bike1.bike_name"
   ]
  },
  {
   "cell_type": "code",
   "execution_count": 6,
   "id": "72b564f1-8f2a-4c59-b993-fb977816ce81",
   "metadata": {},
   "outputs": [
    {
     "data": {
      "text/plain": [
       "5"
      ]
     },
     "execution_count": 6,
     "metadata": {},
     "output_type": "execute_result"
    }
   ],
   "source": [
    "bike1.gear = 5\n",
    "bike1.gear"
   ]
  },
  {
   "cell_type": "code",
   "execution_count": 7,
   "id": "391c5037-270e-463d-8bfc-fec521084417",
   "metadata": {},
   "outputs": [],
   "source": [
    "bike2 = bike()"
   ]
  },
  {
   "cell_type": "code",
   "execution_count": 8,
   "id": "36208bf1-8869-456b-9c94-a99bc771d985",
   "metadata": {},
   "outputs": [
    {
     "data": {
      "text/plain": [
       "(0, 5)"
      ]
     },
     "execution_count": 8,
     "metadata": {},
     "output_type": "execute_result"
    }
   ],
   "source": [
    "bike2.gear , bike1.gear"
   ]
  },
  {
   "cell_type": "code",
   "execution_count": 9,
   "id": "299ee77b-2069-48e9-aa09-8b907595a000",
   "metadata": {},
   "outputs": [],
   "source": [
    "class calculate_area():\n",
    "    length = 0\n",
    "    breadth = 0\n",
    "    def area (self, length, breadth):\n",
    "        self.length = length\n",
    "        self.breadth = breadth\n",
    "        return length * breadth, 'msq'"
   ]
  },
  {
   "cell_type": "code",
   "execution_count": 10,
   "id": "ac649525-2ef5-4003-8a91-485427549b29",
   "metadata": {},
   "outputs": [],
   "source": [
    "room = calculate_area()"
   ]
  },
  {
   "cell_type": "code",
   "execution_count": 11,
   "id": "fcb17dac-a1d7-4038-8bca-59b3b40fb6e6",
   "metadata": {},
   "outputs": [
    {
     "data": {
      "text/plain": [
       "(700, 'msq')"
      ]
     },
     "execution_count": 11,
     "metadata": {},
     "output_type": "execute_result"
    }
   ],
   "source": [
    "room.area(20, 35)"
   ]
  },
  {
   "cell_type": "markdown",
   "id": "f7be706e-ccdf-45e4-a53b-206d8ca58bdd",
   "metadata": {},
   "source": [
    "# Modules"
   ]
  },
  {
   "cell_type": "code",
   "execution_count": 13,
   "id": "d23cb5e0-8dd4-4e34-8cf6-c1e3d9285446",
   "metadata": {},
   "outputs": [],
   "source": [
    "# NUMPY (Numerical Python)"
   ]
  },
  {
   "cell_type": "code",
   "execution_count": 14,
   "id": "1317f4c2-4cf1-49e1-81d8-3517759d3eff",
   "metadata": {},
   "outputs": [],
   "source": [
    "# it is used in ml. It provides a array data\n",
    "# for faster processing speed"
   ]
  },
  {
   "cell_type": "code",
   "execution_count": 15,
   "id": "53ed0098-6d93-46d4-95d4-d8f0d6b5e4f7",
   "metadata": {},
   "outputs": [],
   "source": [
    "import numpy as np"
   ]
  },
  {
   "cell_type": "code",
   "execution_count": 16,
   "id": "3231bf1c-1320-4551-aec0-eb2ad9f69adb",
   "metadata": {},
   "outputs": [
    {
     "data": {
      "text/plain": [
       "'1.26.4'"
      ]
     },
     "execution_count": 16,
     "metadata": {},
     "output_type": "execute_result"
    }
   ],
   "source": [
    "np.__version__"
   ]
  },
  {
   "cell_type": "code",
   "execution_count": 17,
   "id": "04f91db2-adae-477d-8170-4c798ce9369a",
   "metadata": {},
   "outputs": [
    {
     "data": {
      "text/plain": [
       "array([1, 2, 3, 4, 5, 6, 7, 8])"
      ]
     },
     "execution_count": 17,
     "metadata": {},
     "output_type": "execute_result"
    }
   ],
   "source": [
    "arr = np.array([1,2,3,4,5,6,7,8])\n",
    "arr"
   ]
  },
  {
   "cell_type": "code",
   "execution_count": 18,
   "id": "65960d13-51a9-41c1-98e3-92741e2841cd",
   "metadata": {},
   "outputs": [
    {
     "data": {
      "text/plain": [
       "numpy.ndarray"
      ]
     },
     "execution_count": 18,
     "metadata": {},
     "output_type": "execute_result"
    }
   ],
   "source": [
    "type(arr)"
   ]
  },
  {
   "cell_type": "code",
   "execution_count": 19,
   "id": "821f7d08-a296-4fe6-8999-b2e8670ed09e",
   "metadata": {},
   "outputs": [
    {
     "data": {
      "text/plain": [
       "1"
      ]
     },
     "execution_count": 19,
     "metadata": {},
     "output_type": "execute_result"
    }
   ],
   "source": [
    "arr.ndim"
   ]
  },
  {
   "cell_type": "code",
   "execution_count": 20,
   "id": "9d41db33-cd03-4541-85a1-a603df43b323",
   "metadata": {},
   "outputs": [
    {
     "data": {
      "text/plain": [
       "array([[4, 5],\n",
       "       [7, 8]])"
      ]
     },
     "execution_count": 20,
     "metadata": {},
     "output_type": "execute_result"
    }
   ],
   "source": [
    "two_d_arr = np.array([[4,5], [7,8]])\n",
    "two_d_arr"
   ]
  },
  {
   "cell_type": "code",
   "execution_count": 21,
   "id": "42f1e479-0d10-48d1-9703-851845010187",
   "metadata": {},
   "outputs": [
    {
     "data": {
      "text/plain": [
       "2"
      ]
     },
     "execution_count": 21,
     "metadata": {},
     "output_type": "execute_result"
    }
   ],
   "source": [
    "two_d_arr.ndim"
   ]
  },
  {
   "cell_type": "code",
   "execution_count": 22,
   "id": "26d21833-22d0-4fa6-9e6e-dd7e08a98357",
   "metadata": {},
   "outputs": [
    {
     "data": {
      "text/plain": [
       "(8,)"
      ]
     },
     "execution_count": 22,
     "metadata": {},
     "output_type": "execute_result"
    }
   ],
   "source": [
    "arr.shape"
   ]
  },
  {
   "cell_type": "code",
   "execution_count": 23,
   "id": "ac7107e6-da58-428c-80f6-571aceaa0579",
   "metadata": {},
   "outputs": [
    {
     "data": {
      "text/plain": [
       "((8,), 8)"
      ]
     },
     "execution_count": 23,
     "metadata": {},
     "output_type": "execute_result"
    }
   ],
   "source": [
    "arr.shape, arr.size"
   ]
  },
  {
   "cell_type": "code",
   "execution_count": 24,
   "id": "a71532d1-821e-4be4-ac60-61eb964bb4fc",
   "metadata": {},
   "outputs": [
    {
     "data": {
      "text/plain": [
       "(2, 2)"
      ]
     },
     "execution_count": 24,
     "metadata": {},
     "output_type": "execute_result"
    }
   ],
   "source": [
    "two_d_arr.shape"
   ]
  },
  {
   "cell_type": "code",
   "execution_count": 25,
   "id": "ea3ad354-9c79-47dc-8b1a-13ca0231d901",
   "metadata": {},
   "outputs": [
    {
     "data": {
      "text/plain": [
       "4"
      ]
     },
     "execution_count": 25,
     "metadata": {},
     "output_type": "execute_result"
    }
   ],
   "source": [
    "two_d_arr.size"
   ]
  },
  {
   "cell_type": "code",
   "execution_count": 26,
   "id": "6956a8f5-2ff5-44bd-bf5e-ac8c6946e0a9",
   "metadata": {},
   "outputs": [
    {
     "data": {
      "text/plain": [
       "array([[[ 4,  5],\n",
       "        [ 7,  8],\n",
       "        [ 0,  5],\n",
       "        [ 3,  2],\n",
       "        [ 1,  7],\n",
       "        [ 4,  5],\n",
       "        [10,  3],\n",
       "        [ 8,  4],\n",
       "        [ 7,  0]]])"
      ]
     },
     "execution_count": 26,
     "metadata": {},
     "output_type": "execute_result"
    }
   ],
   "source": [
    "three_d_arr = np.array([[[4,5], [7,8], [0,5], [3,2], [1,7], [4,5], [10,3], [8,4], [7,0]]])\n",
    "three_d_arr"
   ]
  },
  {
   "cell_type": "code",
   "execution_count": 27,
   "id": "4e190e02-d623-4f8d-8e0e-fa8a2697dde8",
   "metadata": {},
   "outputs": [
    {
     "data": {
      "text/plain": [
       "3"
      ]
     },
     "execution_count": 27,
     "metadata": {},
     "output_type": "execute_result"
    }
   ],
   "source": [
    "three_d_arr.ndim"
   ]
  },
  {
   "cell_type": "code",
   "execution_count": 28,
   "id": "57580df4-683f-40b4-b6d0-e86e85ac2979",
   "metadata": {},
   "outputs": [
    {
     "data": {
      "text/plain": [
       "array([1, 3, 5, 7, 9])"
      ]
     },
     "execution_count": 28,
     "metadata": {},
     "output_type": "execute_result"
    }
   ],
   "source": [
    "np.arange(1,11,2)"
   ]
  },
  {
   "cell_type": "code",
   "execution_count": 29,
   "id": "3ae149f3-2211-4cfd-8e0c-66f058764244",
   "metadata": {},
   "outputs": [
    {
     "data": {
      "text/plain": [
       "array([[0., 0., 0., 0., 0., 0., 0., 0., 0., 0.],\n",
       "       [0., 0., 0., 0., 0., 0., 0., 0., 0., 0.],\n",
       "       [0., 0., 0., 0., 0., 0., 0., 0., 0., 0.],\n",
       "       [0., 0., 0., 0., 0., 0., 0., 0., 0., 0.],\n",
       "       [0., 0., 0., 0., 0., 0., 0., 0., 0., 0.],\n",
       "       [0., 0., 0., 0., 0., 0., 0., 0., 0., 0.],\n",
       "       [0., 0., 0., 0., 0., 0., 0., 0., 0., 0.],\n",
       "       [0., 0., 0., 0., 0., 0., 0., 0., 0., 0.],\n",
       "       [0., 0., 0., 0., 0., 0., 0., 0., 0., 0.],\n",
       "       [0., 0., 0., 0., 0., 0., 0., 0., 0., 0.]])"
      ]
     },
     "execution_count": 29,
     "metadata": {},
     "output_type": "execute_result"
    }
   ],
   "source": [
    "np.zeros((10, 10))"
   ]
  },
  {
   "cell_type": "code",
   "execution_count": 30,
   "id": "d991e550-6fd2-45ed-ae5e-2f53c5767c87",
   "metadata": {},
   "outputs": [
    {
     "data": {
      "text/plain": [
       "array([[8, 8, 8, 8, 8],\n",
       "       [8, 8, 8, 8, 8],\n",
       "       [8, 8, 8, 8, 8],\n",
       "       [8, 8, 8, 8, 8]])"
      ]
     },
     "execution_count": 30,
     "metadata": {},
     "output_type": "execute_result"
    }
   ],
   "source": [
    "np.full((4,5),8)"
   ]
  },
  {
   "cell_type": "code",
   "execution_count": 31,
   "id": "4969957b-e075-4e54-9fae-6a1b8c986f05",
   "metadata": {},
   "outputs": [
    {
     "data": {
      "text/plain": [
       "array([[0., 1., 0., 0.],\n",
       "       [0., 0., 1., 0.],\n",
       "       [0., 0., 0., 1.],\n",
       "       [0., 0., 0., 0.]])"
      ]
     },
     "execution_count": 31,
     "metadata": {},
     "output_type": "execute_result"
    }
   ],
   "source": [
    "np.eye(4,k=1)"
   ]
  },
  {
   "cell_type": "code",
   "execution_count": 32,
   "id": "73c9beb7-99e0-4e9b-8393-315a232bf28e",
   "metadata": {},
   "outputs": [
    {
     "data": {
      "text/plain": [
       "array([[0., 0., 0., 0.],\n",
       "       [1., 0., 0., 0.],\n",
       "       [0., 1., 0., 0.],\n",
       "       [0., 0., 1., 0.]])"
      ]
     },
     "execution_count": 32,
     "metadata": {},
     "output_type": "execute_result"
    }
   ],
   "source": [
    "np.eye(4,k=-1)"
   ]
  },
  {
   "cell_type": "code",
   "execution_count": 33,
   "id": "95084e1e-e304-445d-9678-2e623bb12c47",
   "metadata": {},
   "outputs": [
    {
     "data": {
      "text/plain": [
       "array([ 1. ,  5.5, 10. ])"
      ]
     },
     "execution_count": 33,
     "metadata": {},
     "output_type": "execute_result"
    }
   ],
   "source": [
    "np.linspace(1,10,3)"
   ]
  },
  {
   "cell_type": "code",
   "execution_count": 34,
   "id": "afb587e6-8369-4c38-b989-7c4aa99ba437",
   "metadata": {},
   "outputs": [
    {
     "data": {
      "text/plain": [
       "array([0.02571921, 0.34320242, 0.87719925, 0.31037595, 0.4169902 ,\n",
       "       0.72651668, 0.65427632, 0.92486448, 0.49258245, 0.89343516])"
      ]
     },
     "execution_count": 34,
     "metadata": {},
     "output_type": "execute_result"
    }
   ],
   "source": [
    "np.random.rand(10) # it will give u a array from 0 to 1"
   ]
  },
  {
   "cell_type": "code",
   "execution_count": 35,
   "id": "18c6a32d-314d-48a5-ab99-2dbf7c292a42",
   "metadata": {},
   "outputs": [
    {
     "data": {
      "text/plain": [
       "array([40.98309496,  1.82308499, 76.662483  , 76.98041347,  0.57177639,\n",
       "       88.27163814, 84.14202407, 84.05032657, 29.76082764,  7.02910474])"
      ]
     },
     "execution_count": 35,
     "metadata": {},
     "output_type": "execute_result"
    }
   ],
   "source": [
    "np.random.rand(10)*100"
   ]
  },
  {
   "cell_type": "code",
   "execution_count": 36,
   "id": "c0ae8829-4567-4177-a493-801182463811",
   "metadata": {},
   "outputs": [
    {
     "data": {
      "text/plain": [
       "array([[0.87531508, 0.48661226, 0.17076635, 0.66918331, 0.46748501],\n",
       "       [0.68208425, 0.94442747, 0.17970509, 0.85149571, 0.41533368],\n",
       "       [0.27335693, 0.21700646, 0.08164229, 0.13549067, 0.4578774 ],\n",
       "       [0.3366243 , 0.67435166, 0.34426812, 0.42075732, 0.97496878]])"
      ]
     },
     "execution_count": 36,
     "metadata": {},
     "output_type": "execute_result"
    }
   ],
   "source": [
    "np.random.rand(4,5)"
   ]
  },
  {
   "cell_type": "code",
   "execution_count": 37,
   "id": "c84413c4-161b-4b90-9caf-7796ade719fb",
   "metadata": {},
   "outputs": [
    {
     "data": {
      "text/plain": [
       "array([[14, 92, 32, 15, 53],\n",
       "       [90, 15, 76, 29, 29],\n",
       "       [67,  8, 20, 32, 59],\n",
       "       [40, 95, 47, 10, 58]], dtype=int64)"
      ]
     },
     "execution_count": 37,
     "metadata": {},
     "output_type": "execute_result"
    }
   ],
   "source": [
    "(np.random.rand(4,5)*100).astype('int64')"
   ]
  },
  {
   "cell_type": "code",
   "execution_count": 38,
   "id": "38bcd860-46bb-42c0-b139-dbd7ee9768b1",
   "metadata": {},
   "outputs": [
    {
     "data": {
      "text/plain": [
       "2"
      ]
     },
     "execution_count": 38,
     "metadata": {},
     "output_type": "execute_result"
    }
   ],
   "source": [
    "np.random.randint(0,5)"
   ]
  },
  {
   "cell_type": "code",
   "execution_count": 39,
   "id": "d13cd88d-27bc-42e4-8bb7-8831df1db968",
   "metadata": {},
   "outputs": [
    {
     "data": {
      "text/plain": [
       "array([[7, 9, 9, 8],\n",
       "       [1, 9, 9, 8],\n",
       "       [7, 1, 6, 3],\n",
       "       [3, 2, 1, 1]])"
      ]
     },
     "execution_count": 39,
     "metadata": {},
     "output_type": "execute_result"
    }
   ],
   "source": [
    "np.random.randint(1,10,(4,4))"
   ]
  },
  {
   "cell_type": "code",
   "execution_count": 40,
   "id": "bcaf144b-0320-4154-8288-8bd66eb7dea4",
   "metadata": {},
   "outputs": [],
   "source": [
    "# mathematical expression using NUMPY"
   ]
  },
  {
   "cell_type": "code",
   "execution_count": 80,
   "id": "4703ce55-5a3d-42bf-af49-ca9ddfdcde39",
   "metadata": {},
   "outputs": [
    {
     "data": {
      "text/plain": [
       "(array([[ 7, 18],\n",
       "        [ 2,  2]]),\n",
       " array([[ 5, 17],\n",
       "        [ 7,  9]]))"
      ]
     },
     "execution_count": 80,
     "metadata": {},
     "output_type": "execute_result"
    }
   ],
   "source": [
    "a = np.random.randint(1,20,(2,2))\n",
    "b = np.random.randint(1,20,(2,2))\n",
    "a,b"
   ]
  },
  {
   "cell_type": "code",
   "execution_count": 82,
   "id": "6cbfa01e-44c8-4771-bc5a-8a152c97f751",
   "metadata": {},
   "outputs": [
    {
     "data": {
      "text/plain": [
       "array([[12, 35],\n",
       "       [ 9, 11]])"
      ]
     },
     "execution_count": 82,
     "metadata": {},
     "output_type": "execute_result"
    }
   ],
   "source": [
    "np.add(a,b)"
   ]
  },
  {
   "cell_type": "code",
   "execution_count": 84,
   "id": "d3a25d8c-6557-493f-9928-ca11312c12b4",
   "metadata": {},
   "outputs": [
    {
     "data": {
      "text/plain": [
       "array([[ 35, 306],\n",
       "       [ 14,  18]])"
      ]
     },
     "execution_count": 84,
     "metadata": {},
     "output_type": "execute_result"
    }
   ],
   "source": [
    "np.multiply(a,b)"
   ]
  },
  {
   "cell_type": "code",
   "execution_count": 86,
   "id": "68e31fd2-e2d7-463b-8ccb-fe1330eef653",
   "metadata": {},
   "outputs": [
    {
     "data": {
      "text/plain": [
       "array([[ 2,  1],\n",
       "       [-5, -7]])"
      ]
     },
     "execution_count": 86,
     "metadata": {},
     "output_type": "execute_result"
    }
   ],
   "source": [
    "np.subtract(a,b)"
   ]
  },
  {
   "cell_type": "code",
   "execution_count": 88,
   "id": "4d58bc39-a386-4fc4-b6d3-d43a2655f5fc",
   "metadata": {},
   "outputs": [
    {
     "data": {
      "text/plain": [
       "array([[1.4       , 1.05882353],\n",
       "       [0.28571429, 0.22222222]])"
      ]
     },
     "execution_count": 88,
     "metadata": {},
     "output_type": "execute_result"
    }
   ],
   "source": [
    "np.divide(a,b)"
   ]
  },
  {
   "cell_type": "code",
   "execution_count": 90,
   "id": "fe9c652f-8507-4a4f-a3c0-8a2f84962a57",
   "metadata": {},
   "outputs": [
    {
     "data": {
      "text/plain": [
       "array([[0.71428571, 0.94444444],\n",
       "       [3.5       , 4.5       ]])"
      ]
     },
     "execution_count": 90,
     "metadata": {},
     "output_type": "execute_result"
    }
   ],
   "source": [
    "np.divide(b,a)"
   ]
  },
  {
   "cell_type": "code",
   "execution_count": 92,
   "id": "4d3c4d2b-43cc-4383-b658-49b1312277c7",
   "metadata": {},
   "outputs": [
    {
     "data": {
      "text/plain": [
       "array([[2, 1],\n",
       "       [2, 2]])"
      ]
     },
     "execution_count": 92,
     "metadata": {},
     "output_type": "execute_result"
    }
   ],
   "source": [
    "np.mod(a,b)"
   ]
  },
  {
   "cell_type": "code",
   "execution_count": 94,
   "id": "9ffb135f-c7a3-4b69-ada6-e20e8643aad4",
   "metadata": {},
   "outputs": [
    {
     "data": {
      "text/plain": [
       "array([[2.64575131, 4.24264069],\n",
       "       [1.41421356, 1.41421356]])"
      ]
     },
     "execution_count": 94,
     "metadata": {},
     "output_type": "execute_result"
    }
   ],
   "source": [
    "np.sqrt(a)"
   ]
  },
  {
   "cell_type": "code",
   "execution_count": 96,
   "id": "2e3dd0a2-d9bb-4987-8e1c-574c9ebc7560",
   "metadata": {},
   "outputs": [
    {
     "data": {
      "text/plain": [
       "array([[2.23606798, 4.12310563],\n",
       "       [2.64575131, 3.        ]])"
      ]
     },
     "execution_count": 96,
     "metadata": {},
     "output_type": "execute_result"
    }
   ],
   "source": [
    "np.sqrt(b)"
   ]
  },
  {
   "cell_type": "code",
   "execution_count": 98,
   "id": "29b7bfd3-e85e-4b9c-8f4f-8f1616aeffba",
   "metadata": {},
   "outputs": [
    {
     "data": {
      "text/plain": [
       "array([[ 49, 324],\n",
       "       [  4,   4]], dtype=int32)"
      ]
     },
     "execution_count": 98,
     "metadata": {},
     "output_type": "execute_result"
    }
   ],
   "source": [
    "np.power(a,2)"
   ]
  },
  {
   "cell_type": "code",
   "execution_count": 100,
   "id": "7a66de5e-5aaa-4f44-b565-7ed01131a6d3",
   "metadata": {},
   "outputs": [
    {
     "data": {
      "text/plain": [
       "array([[ 0.87144798, -1.13731371],\n",
       "       [-2.18503986, -2.18503986]])"
      ]
     },
     "execution_count": 100,
     "metadata": {},
     "output_type": "execute_result"
    }
   ],
   "source": [
    "np.tan(a)"
   ]
  },
  {
   "cell_type": "code",
   "execution_count": 102,
   "id": "88ee2103-72b6-4690-b0ab-20ccde9e5430",
   "metadata": {},
   "outputs": [
    {
     "data": {
      "text/plain": [
       "array([[ 1.52210106, -1.33158054],\n",
       "       [ 1.09975017,  1.09975017]])"
      ]
     },
     "execution_count": 102,
     "metadata": {},
     "output_type": "execute_result"
    }
   ],
   "source": [
    "cosec = 1/np.sin(a)\n",
    "cosec"
   ]
  },
  {
   "cell_type": "code",
   "execution_count": 104,
   "id": "bdd513db-1b57-4641-995d-b539374154ad",
   "metadata": {},
   "outputs": [],
   "source": [
    "#statistical function"
   ]
  },
  {
   "cell_type": "code",
   "execution_count": 106,
   "id": "66b34309-e9d8-4457-b4ae-f321ca7664d3",
   "metadata": {},
   "outputs": [
    {
     "data": {
      "text/plain": [
       "array([[ 7, 18],\n",
       "       [ 2,  2]])"
      ]
     },
     "execution_count": 106,
     "metadata": {},
     "output_type": "execute_result"
    }
   ],
   "source": [
    "a"
   ]
  },
  {
   "cell_type": "code",
   "execution_count": 108,
   "id": "35e8641b-e17f-4922-807d-ecfa62a155c1",
   "metadata": {},
   "outputs": [
    {
     "data": {
      "text/plain": [
       "18"
      ]
     },
     "execution_count": 108,
     "metadata": {},
     "output_type": "execute_result"
    }
   ],
   "source": [
    "a.max()"
   ]
  },
  {
   "cell_type": "code",
   "execution_count": 110,
   "id": "39cf7d58-7da4-4885-858f-d86592db18c3",
   "metadata": {},
   "outputs": [
    {
     "data": {
      "text/plain": [
       "1"
      ]
     },
     "execution_count": 110,
     "metadata": {},
     "output_type": "execute_result"
    }
   ],
   "source": [
    "a.argmax()"
   ]
  },
  {
   "cell_type": "code",
   "execution_count": 112,
   "id": "64811e09-ff82-4eff-af97-a67aeb6535e4",
   "metadata": {},
   "outputs": [
    {
     "data": {
      "text/plain": [
       "2"
      ]
     },
     "execution_count": 112,
     "metadata": {},
     "output_type": "execute_result"
    }
   ],
   "source": [
    "a.min()"
   ]
  },
  {
   "cell_type": "code",
   "execution_count": 114,
   "id": "07f69dc8-e288-49c5-a55c-1445ad5ebddd",
   "metadata": {},
   "outputs": [
    {
     "data": {
      "text/plain": [
       "2"
      ]
     },
     "execution_count": 114,
     "metadata": {},
     "output_type": "execute_result"
    }
   ],
   "source": [
    "a.argmin()"
   ]
  },
  {
   "cell_type": "code",
   "execution_count": 118,
   "id": "1655768d-06fd-411b-9929-450774ad113e",
   "metadata": {},
   "outputs": [
    {
     "data": {
      "text/plain": [
       "7.25"
      ]
     },
     "execution_count": 118,
     "metadata": {},
     "output_type": "execute_result"
    }
   ],
   "source": [
    "a.mean()"
   ]
  },
  {
   "cell_type": "code",
   "execution_count": 122,
   "id": "14e2d6fa-8952-421e-9c06-bd30cc70b6fc",
   "metadata": {},
   "outputs": [
    {
     "data": {
      "text/plain": [
       "4.5"
      ]
     },
     "execution_count": 122,
     "metadata": {},
     "output_type": "execute_result"
    }
   ],
   "source": [
    "np.median(a)"
   ]
  },
  {
   "cell_type": "code",
   "execution_count": 124,
   "id": "bc921ef7-c9a9-4638-9d9a-1ef8af4a755a",
   "metadata": {},
   "outputs": [
    {
     "data": {
      "text/plain": [
       "array([[ 7, 18],\n",
       "       [ 2,  2]])"
      ]
     },
     "execution_count": 124,
     "metadata": {},
     "output_type": "execute_result"
    }
   ],
   "source": [
    "a"
   ]
  },
  {
   "cell_type": "code",
   "execution_count": 126,
   "id": "f25b85f2-b973-4af7-b9fe-4b6d7387a3ba",
   "metadata": {},
   "outputs": [
    {
     "data": {
      "text/plain": [
       "8.0"
      ]
     },
     "execution_count": 126,
     "metadata": {},
     "output_type": "execute_result"
    }
   ],
   "source": [
    "np.median(b)"
   ]
  },
  {
   "cell_type": "code",
   "execution_count": 128,
   "id": "d1e619a4-a747-4174-88c6-3fc5d2d66ba3",
   "metadata": {},
   "outputs": [
    {
     "data": {
      "text/plain": [
       "array([[ 5, 17],\n",
       "       [ 7,  9]])"
      ]
     },
     "execution_count": 128,
     "metadata": {},
     "output_type": "execute_result"
    }
   ],
   "source": [
    "b"
   ]
  },
  {
   "cell_type": "code",
   "execution_count": 130,
   "id": "b8ca5ff1-9443-417d-948d-d9bc573104f9",
   "metadata": {},
   "outputs": [
    {
     "data": {
      "text/plain": [
       "6.53356717268599"
      ]
     },
     "execution_count": 130,
     "metadata": {},
     "output_type": "execute_result"
    }
   ],
   "source": [
    "a.std()"
   ]
  },
  {
   "cell_type": "code",
   "execution_count": 132,
   "id": "ec5601e0-c2ab-43a4-bc15-9e7bd3e62e52",
   "metadata": {},
   "outputs": [
    {
     "data": {
      "text/plain": [
       "42.6875"
      ]
     },
     "execution_count": 132,
     "metadata": {},
     "output_type": "execute_result"
    }
   ],
   "source": [
    "a.var()"
   ]
  },
  {
   "cell_type": "code",
   "execution_count": 134,
   "id": "41f4e394-a910-4a08-a04d-3ef1797cb456",
   "metadata": {},
   "outputs": [
    {
     "data": {
      "text/plain": [
       "array([ 7, 25, 27, 29])"
      ]
     },
     "execution_count": 134,
     "metadata": {},
     "output_type": "execute_result"
    }
   ],
   "source": [
    "np.cumsum(a)"
   ]
  },
  {
   "cell_type": "code",
   "execution_count": 136,
   "id": "02163f2d-ec06-49ee-8289-a01668f4e71d",
   "metadata": {},
   "outputs": [
    {
     "data": {
      "text/plain": [
       "array([[ 7, 18],\n",
       "       [ 2,  2]])"
      ]
     },
     "execution_count": 136,
     "metadata": {},
     "output_type": "execute_result"
    }
   ],
   "source": [
    "a"
   ]
  },
  {
   "cell_type": "code",
   "execution_count": 140,
   "id": "893f9cf0-88e3-4e22-9a91-f299856bc664",
   "metadata": {},
   "outputs": [
    {
     "data": {
      "text/plain": [
       "array([ 7,  7,  7, 18, 18, 18,  2,  2,  2,  2,  2,  2])"
      ]
     },
     "execution_count": 140,
     "metadata": {},
     "output_type": "execute_result"
    }
   ],
   "source": [
    "a.repeat(3)"
   ]
  },
  {
   "cell_type": "code",
   "execution_count": 142,
   "id": "512f90bc-e14e-4024-90f2-f85e5a10c492",
   "metadata": {},
   "outputs": [
    {
     "data": {
      "text/plain": [
       "array([[161, 281],\n",
       "       [ 24,  52]])"
      ]
     },
     "execution_count": 142,
     "metadata": {},
     "output_type": "execute_result"
    }
   ],
   "source": [
    "np.dot(a,b)"
   ]
  },
  {
   "cell_type": "code",
   "execution_count": 144,
   "id": "f4f8f1e2-5b5f-4070-a279-0d2e5ede4ebb",
   "metadata": {},
   "outputs": [
    {
     "data": {
      "text/plain": [
       "array([29,  4])"
      ]
     },
     "execution_count": 144,
     "metadata": {},
     "output_type": "execute_result"
    }
   ],
   "source": [
    "np.cross(a,b)"
   ]
  },
  {
   "cell_type": "code",
   "execution_count": 146,
   "id": "233bb7d0-07fc-4d53-8151-5278e5183c53",
   "metadata": {},
   "outputs": [
    {
     "data": {
      "text/plain": [
       "array([[ 7,  2],\n",
       "       [18,  2]])"
      ]
     },
     "execution_count": 146,
     "metadata": {},
     "output_type": "execute_result"
    }
   ],
   "source": [
    "np.transpose(a)"
   ]
  },
  {
   "cell_type": "code",
   "execution_count": 150,
   "id": "2300376c-d7a4-42f1-b8c9-298298c50869",
   "metadata": {},
   "outputs": [
    {
     "data": {
      "text/plain": [
       "array([[1, 2, 3],\n",
       "       [4, 5, 6],\n",
       "       [7, 8, 9]])"
      ]
     },
     "execution_count": 150,
     "metadata": {},
     "output_type": "execute_result"
    }
   ],
   "source": [
    "a1=np.array([[1,2,3],[4,5,6],[7,8,9]])\n",
    "a1"
   ]
  },
  {
   "cell_type": "code",
   "execution_count": 154,
   "id": "df762673-565e-4865-8a21-0ff21dbd448a",
   "metadata": {},
   "outputs": [
    {
     "data": {
      "text/plain": [
       "6"
      ]
     },
     "execution_count": 154,
     "metadata": {},
     "output_type": "execute_result"
    }
   ],
   "source": [
    "a1[1,2]"
   ]
  },
  {
   "cell_type": "code",
   "execution_count": 156,
   "id": "0a44ff32-eed3-43a6-9876-c654583e99c2",
   "metadata": {},
   "outputs": [],
   "source": [
    "# indexing"
   ]
  },
  {
   "cell_type": "code",
   "execution_count": 158,
   "id": "8acea685-dadd-4244-98c0-a4a1cc9a1c6e",
   "metadata": {},
   "outputs": [
    {
     "data": {
      "text/plain": [
       "6"
      ]
     },
     "execution_count": 158,
     "metadata": {},
     "output_type": "execute_result"
    }
   ],
   "source": [
    "a1[1,2]"
   ]
  },
  {
   "cell_type": "code",
   "execution_count": 160,
   "id": "748b9447-a3bd-430c-abe4-97de668bd51c",
   "metadata": {},
   "outputs": [
    {
     "data": {
      "text/plain": [
       "5"
      ]
     },
     "execution_count": 160,
     "metadata": {},
     "output_type": "execute_result"
    }
   ],
   "source": [
    "a1[1,1]"
   ]
  },
  {
   "cell_type": "code",
   "execution_count": 162,
   "id": "f8cafe56-4dcc-4441-b87d-5d33575c3925",
   "metadata": {},
   "outputs": [
    {
     "data": {
      "text/plain": [
       "array([[1, 2, 3],\n",
       "       [4, 5, 6],\n",
       "       [7, 8, 9]])"
      ]
     },
     "execution_count": 162,
     "metadata": {},
     "output_type": "execute_result"
    }
   ],
   "source": [
    "a1"
   ]
  },
  {
   "cell_type": "code",
   "execution_count": 166,
   "id": "5bdc9980-68d9-411f-818f-0073e8328059",
   "metadata": {},
   "outputs": [
    {
     "data": {
      "text/plain": [
       "array([[1, 2, 3],\n",
       "       [4, 5, 6]])"
      ]
     },
     "execution_count": 166,
     "metadata": {},
     "output_type": "execute_result"
    }
   ],
   "source": [
    "a1[0:2:1,::]"
   ]
  },
  {
   "cell_type": "code",
   "execution_count": 174,
   "id": "7f238898-09c2-4a20-a075-1950434c58dc",
   "metadata": {},
   "outputs": [
    {
     "data": {
      "text/plain": [
       "array([[1, 2],\n",
       "       [4, 5],\n",
       "       [7, 8]])"
      ]
     },
     "execution_count": 174,
     "metadata": {},
     "output_type": "execute_result"
    }
   ],
   "source": [
    "a1[::,0:2:1]"
   ]
  },
  {
   "cell_type": "code",
   "execution_count": 176,
   "id": "84fdbcad-87c9-4f21-beff-53b663aaadef",
   "metadata": {},
   "outputs": [
    {
     "data": {
      "text/plain": [
       "array([[5, 6],\n",
       "       [8, 9]])"
      ]
     },
     "execution_count": 176,
     "metadata": {},
     "output_type": "execute_result"
    }
   ],
   "source": [
    "a1[1:3:1,1:3:1]"
   ]
  },
  {
   "cell_type": "code",
   "execution_count": 178,
   "id": "8729745d-b65d-4599-9ce7-0db9dbfe4d34",
   "metadata": {},
   "outputs": [],
   "source": [
    "# concatenation"
   ]
  },
  {
   "cell_type": "code",
   "execution_count": 180,
   "id": "273345a9-8fde-46fa-bb12-74d877b6fd99",
   "metadata": {},
   "outputs": [
    {
     "data": {
      "text/plain": [
       "array([[ 7, 18,  5, 17],\n",
       "       [ 2,  2,  7,  9]])"
      ]
     },
     "execution_count": 180,
     "metadata": {},
     "output_type": "execute_result"
    }
   ],
   "source": [
    "np.concatenate((a,b),axis=1) # horizontal addition"
   ]
  },
  {
   "cell_type": "code",
   "execution_count": 182,
   "id": "17ca2afb-8335-47cc-9d0e-03d73bfa3745",
   "metadata": {},
   "outputs": [
    {
     "data": {
      "text/plain": [
       "array([[ 7, 18],\n",
       "       [ 2,  2],\n",
       "       [ 5, 17],\n",
       "       [ 7,  9]])"
      ]
     },
     "execution_count": 182,
     "metadata": {},
     "output_type": "execute_result"
    }
   ],
   "source": [
    "np.concatenate((a,b),axis=0) # row addition /vertical addition"
   ]
  },
  {
   "cell_type": "code",
   "execution_count": 186,
   "id": "30164266-604f-4f70-aa68-e100adfdad7c",
   "metadata": {},
   "outputs": [
    {
     "data": {
      "text/plain": [
       "array([[ 7, 18],\n",
       "       [ 2,  2],\n",
       "       [ 5, 17],\n",
       "       [ 7,  9]])"
      ]
     },
     "execution_count": 186,
     "metadata": {},
     "output_type": "execute_result"
    }
   ],
   "source": [
    "np.vstack((a,b))"
   ]
  },
  {
   "cell_type": "code",
   "execution_count": 188,
   "id": "b72f8c15-cbc4-4b49-b746-36bb57be4088",
   "metadata": {},
   "outputs": [
    {
     "data": {
      "text/plain": [
       "array([[ 7, 18,  5, 17],\n",
       "       [ 2,  2,  7,  9]])"
      ]
     },
     "execution_count": 188,
     "metadata": {},
     "output_type": "execute_result"
    }
   ],
   "source": [
    "np.hstack((a,b))"
   ]
  },
  {
   "cell_type": "code",
   "execution_count": null,
   "id": "3813d253-d430-4c54-989b-e8048a96acc8",
   "metadata": {},
   "outputs": [],
   "source": []
  }
 ],
 "metadata": {
  "kernelspec": {
   "display_name": "Python 3 (ipykernel)",
   "language": "python",
   "name": "python3"
  },
  "language_info": {
   "codemirror_mode": {
    "name": "ipython",
    "version": 3
   },
   "file_extension": ".py",
   "mimetype": "text/x-python",
   "name": "python",
   "nbconvert_exporter": "python",
   "pygments_lexer": "ipython3",
   "version": "3.12.4"
  }
 },
 "nbformat": 4,
 "nbformat_minor": 5
}
