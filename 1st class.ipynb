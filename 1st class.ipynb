{
 "cells": [
  {
   "cell_type": "code",
   "execution_count": null,
   "id": "49d8f8f8-318d-4b92-afe8-07333fcd8e7f",
   "metadata": {},
   "outputs": [],
   "source": [
    "print(\"hello world\")"
   ]
  },
  {
   "cell_type": "markdown",
   "id": "2edb69b4-6693-4066-adbb-52742002aac4",
   "metadata": {},
   "source": [
    "conditional statement"
   ]
  },
  {
   "cell_type": "code",
   "execution_count": null,
   "id": "86f18745-02b8-42a5-8558-b48d1042c06c",
   "metadata": {},
   "outputs": [],
   "source": [
    "print('''\n",
    "Central Tool room\n",
    "        &\n",
    "        Trianing Center''')"
   ]
  },
  {
   "cell_type": "code",
   "execution_count": null,
   "id": "01e5bb2c-6a70-40e8-ab41-f913c98f6294",
   "metadata": {},
   "outputs": [],
   "source": [
    "# Indexing and slicing"
   ]
  },
  {
   "cell_type": "code",
   "execution_count": null,
   "id": "854f4fd8-1706-43b8-9e3c-dae6fa240674",
   "metadata": {},
   "outputs": [],
   "source": [
    "a = 'CENTRAL'"
   ]
  },
  {
   "cell_type": "code",
   "execution_count": null,
   "id": "289eac6a-aa51-40d5-ae9c-26929ec2d9a7",
   "metadata": {},
   "outputs": [],
   "source": [
    "a[4], a[5], a[6]"
   ]
  },
  {
   "cell_type": "code",
   "execution_count": null,
   "id": "7725f0c7-decf-4c7f-a84f-d3824789cfd2",
   "metadata": {},
   "outputs": [],
   "source": [
    "a[4:7:1]"
   ]
  },
  {
   "cell_type": "code",
   "execution_count": null,
   "id": "9cb914f4-247a-4626-8e0c-559df856007c",
   "metadata": {},
   "outputs": [],
   "source": [
    "# reverse slicing\n",
    "a[::-1]"
   ]
  },
  {
   "cell_type": "code",
   "execution_count": null,
   "id": "3b56837a-0a26-41b4-9231-9578bea98222",
   "metadata": {},
   "outputs": [],
   "source": [
    "a[4::]"
   ]
  },
  {
   "cell_type": "code",
   "execution_count": null,
   "id": "3e5a94a6-b202-4fde-a140-e64c133fe36d",
   "metadata": {},
   "outputs": [],
   "source": [
    "a[-2:-5:-1]"
   ]
  },
  {
   "cell_type": "code",
   "execution_count": null,
   "id": "45b7818f-b42b-4f2d-9e8a-6ec98bb79e9d",
   "metadata": {},
   "outputs": [],
   "source": [
    "b = 'ELLEPHANT'"
   ]
  },
  {
   "cell_type": "code",
   "execution_count": null,
   "id": "e2637f3c-275b-42bd-94c3-5477428da66e",
   "metadata": {},
   "outputs": [],
   "source": [
    "b[1:6:2]"
   ]
  },
  {
   "cell_type": "code",
   "execution_count": null,
   "id": "3fa86a24-f710-4bcb-97ca-c03eaaf7b16d",
   "metadata": {},
   "outputs": [],
   "source": [
    "b[4:7]"
   ]
  },
  {
   "cell_type": "code",
   "execution_count": null,
   "id": "86de2e75-3f52-470f-992f-9ee09f7140ae",
   "metadata": {},
   "outputs": [],
   "source": [
    "b[6:9]"
   ]
  },
  {
   "cell_type": "code",
   "execution_count": null,
   "id": "122396e1-5096-40e2-b3c2-7ff36b9d84f2",
   "metadata": {},
   "outputs": [],
   "source": [
    "type(a)"
   ]
  },
  {
   "cell_type": "code",
   "execution_count": null,
   "id": "eca2af2d-6ee5-4ec6-994e-abb8b388bb09",
   "metadata": {},
   "outputs": [],
   "source": [
    "help(str)"
   ]
  },
  {
   "cell_type": "code",
   "execution_count": null,
   "id": "d101281c-ea90-40bb-9e32-436d4efd1cea",
   "metadata": {},
   "outputs": [],
   "source": [
    "'apple'.capitalize()"
   ]
  },
  {
   "cell_type": "code",
   "execution_count": null,
   "id": "21bad179-ab45-4b4e-972a-70d6eaccc5b9",
   "metadata": {},
   "outputs": [],
   "source": [
    "# Uppercse\n",
    "\n",
    "'apple'.upper()"
   ]
  },
  {
   "cell_type": "code",
   "execution_count": null,
   "id": "91826ce1-191e-4b43-9b10-3a8088e113fd",
   "metadata": {},
   "outputs": [],
   "source": [
    "# lowercse\n",
    "\n",
    "'APPLE'.casefold() "
   ]
  },
  {
   "cell_type": "code",
   "execution_count": null,
   "id": "c515e2d8-b111-43e6-b6c1-c593987b4953",
   "metadata": {},
   "outputs": [],
   "source": [
    "c = 'cat'\n",
    "c.upper()"
   ]
  },
  {
   "cell_type": "code",
   "execution_count": null,
   "id": "45be2b6c-90df-4424-8c13-8a71ffdad91a",
   "metadata": {},
   "outputs": [],
   "source": [
    "print(c)"
   ]
  },
  {
   "cell_type": "code",
   "execution_count": null,
   "id": "60fc0b74-a2d0-4fbd-bee9-300dcdf1496a",
   "metadata": {},
   "outputs": [],
   "source": [
    "'central&toolroom'.split('&')"
   ]
  },
  {
   "cell_type": "code",
   "execution_count": null,
   "id": "50d1ed08-5ecf-423d-9f45-bdc068e180cc",
   "metadata": {},
   "outputs": [],
   "source": [
    "'SushreeBiswal'.replace('9', ' ')"
   ]
  },
  {
   "cell_type": "code",
   "execution_count": null,
   "id": "b39617c4-88c9-4496-83d7-8e36ed578c30",
   "metadata": {},
   "outputs": [],
   "source": [
    "'abcd'.isalpha()"
   ]
  },
  {
   "cell_type": "code",
   "execution_count": null,
   "id": "789bf470-37d3-4f24-a796-879e09fde8ba",
   "metadata": {},
   "outputs": [],
   "source": [
    "'abcd1'.isalpha()"
   ]
  },
  {
   "cell_type": "code",
   "execution_count": null,
   "id": "c6da049d-4ebb-4af8-8655-7347d6c619b3",
   "metadata": {},
   "outputs": [],
   "source": [
    "'12243'.isnumeric()"
   ]
  },
  {
   "cell_type": "code",
   "execution_count": null,
   "id": "9e119786-44ed-4033-a895-7b8472db47b9",
   "metadata": {},
   "outputs": [],
   "source": [
    "'num1234&'.isalnum()"
   ]
  },
  {
   "cell_type": "code",
   "execution_count": null,
   "id": "8f687fa2-95bb-4b75-b5af-3a60035e20e8",
   "metadata": {},
   "outputs": [],
   "source": [
    "'3num'.isidentifier()"
   ]
  },
  {
   "cell_type": "code",
   "execution_count": null,
   "id": "3f98b850-af69-4734-bc9f-e4052f3f8b6a",
   "metadata": {},
   "outputs": [],
   "source": [
    "'num3'.isidentifier()"
   ]
  },
  {
   "cell_type": "code",
   "execution_count": null,
   "id": "91924cc9-2ab6-49fe-8144-4b4d4c63805d",
   "metadata": {},
   "outputs": [],
   "source": []
  }
 ],
 "metadata": {
  "kernelspec": {
   "display_name": "Python 3 (ipykernel)",
   "language": "python",
   "name": "python3"
  },
  "language_info": {
   "codemirror_mode": {
    "name": "ipython",
    "version": 3
   },
   "file_extension": ".py",
   "mimetype": "text/x-python",
   "name": "python",
   "nbconvert_exporter": "python",
   "pygments_lexer": "ipython3",
   "version": "3.12.4"
  }
 },
 "nbformat": 4,
 "nbformat_minor": 5
}
